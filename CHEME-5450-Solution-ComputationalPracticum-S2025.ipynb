{
 "cells": [
  {
   "cell_type": "markdown",
   "id": "6dca204d-08c6-4853-831e-35c30e109acf",
   "metadata": {},
   "source": [
    "# Compute the Resource Requirements for Gene Expression in Cell-Free Systems\n",
    "Fill me in"
   ]
  },
  {
   "cell_type": "code",
   "execution_count": 1,
   "id": "0d3d5cee-2060-4886-9476-53f1c2d951f0",
   "metadata": {},
   "outputs": [],
   "source": [
    "include(\"Include.jl\");"
   ]
  },
  {
   "cell_type": "markdown",
   "id": "83ba7f12",
   "metadata": {},
   "source": [
    "## Task 1: Build the System Matricies\n",
    "In this task, we will build the system matrices for the cell-free system. The system matrices are used to describe the interactions between the different components of the system. "
   ]
  },
  {
   "cell_type": "code",
   "execution_count": 2,
   "id": "c862163a-eb92-46d0-a472-1a7712b743ae",
   "metadata": {},
   "outputs": [],
   "source": [
    "genesequence, proteinsequence = let\n",
    "\n",
    "    # setup the paths to the gene and protein sequence files\n",
    "    path_to_gene_file = joinpath(_PATH_TO_DATA, \"deGFP.gene\")\n",
    "    path_to_protein_file = joinpath(_PATH_TO_DATA, \"deGFP.prot\")\n",
    "\n",
    "    # load the sequences from the files - \n",
    "    gene_sequence = load_gene_sequence_from_file(path_to_gene_file); # load the gene sequence\n",
    "    protein_sequence = load_protein_sequence_from_file(path_to_protein_file); # load the protein sequence\n",
    "\n",
    "    # return -\n",
    "    gene_sequence, protein_sequence\n",
    "end;"
   ]
  },
  {
   "cell_type": "markdown",
   "id": "81e96b4a",
   "metadata": {},
   "source": [
    "Fill me in\n"
   ]
  },
  {
   "cell_type": "code",
   "execution_count": 3,
   "id": "ecba48cc",
   "metadata": {},
   "outputs": [],
   "source": [
    "reactions = let\n",
    "\n",
    "    # initialize -\n",
    "    reactions = Vector{String}();\n",
    "    \n",
    "    # TXTL and \"hypothetical\" exchange reactions -\n",
    "    transcription_reactions = transcription(genesequence); # transcription reactions\n",
    "    translation_reactions = translation(proteinsequence); # translation reactions\n",
    "    txtl_reactions = [transcription_reactions; translation_reactions]; # combine transcription and translation reactions\n",
    "    \n",
    "    # build the exchange reactions -\n",
    "    exchange_reactions = exchangereactions(txtl_reactions); # exchange reactions\n",
    "    \n",
    "    # build the list of reactions -\n",
    "    reactions = [txtl_reactions; exchange_reactions]; # combine all reactions\n",
    "end;"
   ]
  },
  {
   "cell_type": "markdown",
   "id": "211d0727",
   "metadata": {},
   "source": [
    "Fill me in"
   ]
  },
  {
   "cell_type": "code",
   "execution_count": 4,
   "id": "b85716bd",
   "metadata": {},
   "outputs": [],
   "source": [
    "let\n",
    "\n",
    "    # initialize -\n",
    "    path_to_reaction_file = joinpath(_PATH_TO_DATA, \"deGFP.reactions\"); # path to the reaction file\n",
    "\n",
    "    # write the reactions to the file -\n",
    "    open(path_to_reaction_file, \"w\") do io\n",
    "        for reaction in reactions\n",
    "            println(io, reaction); # write the reaction to the file\n",
    "        end\n",
    "    end\n",
    "\n",
    "end"
   ]
  },
  {
   "cell_type": "markdown",
   "id": "cb4a3940",
   "metadata": {},
   "source": [
    "Fill me in."
   ]
  },
  {
   "cell_type": "code",
   "execution_count": 5,
   "id": "4cb56766",
   "metadata": {},
   "outputs": [],
   "source": [
    "S, species, reactions, rd, boundsarray = let\n",
    "\n",
    "    # initialize -\n",
    "    path_to_reaction_file = joinpath(_PATH_TO_DATA, \"deGFP.reactions\"); # path to the reaction file\n",
    "    reactions = read_reaction_file(path_to_reaction_file); # read the reactions from the file\n",
    "    \n",
    "    # Compute the stoichiometric matrix -\n",
    "    (S, species_array, reaction_array, reaction_dictionary) = build_stoichiometric_matrix(reactions); # compute the stoichiometric matrix\n",
    "   \n",
    "    # compute the bounds -\n",
    "    bounds = build_default_bounds_array(reactions); # this is the default bounds array\n",
    "\n",
    "    # return -\n",
    "    S, species_array, reactions, reaction_dictionary, bounds\n",
    "end;"
   ]
  },
  {
   "cell_type": "markdown",
   "id": "a6896584",
   "metadata": {},
   "source": [
    "Constants"
   ]
  },
  {
   "cell_type": "code",
   "execution_count": 6,
   "id": "8ffeaabd",
   "metadata": {},
   "outputs": [],
   "source": [
    "R = 8.314; # universal gas constant (units: J/(mol*K))\n",
    "T = 37 + 273.15; # temperature (units: K);\n",
    "β = 1/(R*T); # inverse temperature (units: 1/(J*mol)) - thermodynamic beta in units of 1/(J*mol)\n",
    "μ = 0.0; # in this case no growth, we are cell free!\n",
    "dilution_factor = 30.0; # dilution factor (units: dimensionless)\n",
    "parameters = generate_parameter_dictionary(joinpath(_PATH_TO_CONFIGURATION, \"Parameters.json\")); # load the biophysical parameters (approximately true)\n",
    "INDUCER = 0.1; # initial concentration of the inducer (units: mM)\n",
    "KIX = 10.0; # Constant for the Hill function in the u-function (units: mM)"
   ]
  },
  {
   "cell_type": "markdown",
   "id": "eb0ce3d5",
   "metadata": {},
   "source": [
    "To store all the problem data, we create an instance of [the `MyPrimalFluxBalanceAnalysisCalculationModel` type](src/Types.jl). Let's build one of these objects for our problem and store it in the `model::MyPrimalFluxBalanceAnalysisCalculationModel` variable. We also return the `rd::Dict{String, String}` dictionary, which maps the reaction name field (key) to the reaction string (value).\n",
    "* __Builder (or factory) pattern__: For all custom types that we make, we'll use something like [the builder software pattern](https://en.wikipedia.org/wiki/Builder_pattern) to construct and initialize these objects. The calling syntax will be the same for all types: [a `build(...)` method](src/Factory.jl) will take the kind of thing we want to build in the first argument, and the data needed to make that type as [a `NamedTuple` instance](https://docs.julialang.org/en/v1/base/base/#Core.NamedTuple) in the second argument.\n",
    "* __What's the story with the `let` block__? A [let block](https://docs.julialang.org/en/v1/manual/variables-and-scoping/#Let-Blocks) creates a new hard scope and new variable bindings each time they run. Thus, they act like a private scratch space, where data comes in (is captured by the block), but only what we want to be exposed comes out."
   ]
  },
  {
   "cell_type": "code",
   "execution_count": 7,
   "id": "f352c749",
   "metadata": {},
   "outputs": [],
   "source": [
    "model, reactionnamesmap, inversereactionsnamemap, rnamesarray = let\n",
    "\n",
    "    # build the FBA model -\n",
    "    model = build(MyPrimalFluxBalanceAnalysisCalculationModel, (\n",
    "        S = S, # stoichiometric matrix\n",
    "        fluxbounds = boundsarray, # these are the *default* bounds; we'll need to update with new info if we have it\n",
    "        species = species, # list of species. The rows of S are in this order\n",
    "        reactions = reactions, # list of reactions. The cols of S are in this order\n",
    "        objective = length(reactions) |> R -> zeros(R), # this is empty, we'll need to set this\n",
    "    ));\n",
    "\n",
    "    # build a reaction names = reaction index map\n",
    "    reactionnamesmap = Dict{String,Int64}()\n",
    "    inversereactionsnamemap = Dict{Int64,String}();\n",
    "    for i ∈ eachindex(reactions)\n",
    "        reactionstring = reactions[i]; # get the reaction string\n",
    "        components = split(reactionstring, \",\"); # split the reaction string into components around ,\n",
    "        rname = components[1]; # get the reaction name\n",
    "        reactionnamesmap[rname] = i;\n",
    "        inversereactionsnamemap[i] = rname; # add the reaction name to the inverse map\n",
    "    end\n",
    "\n",
    "    # build the reaction names array -\n",
    "    rnamesarray = Vector{String}(undef, length(reactions)); # initialize the reaction names array\n",
    "    for i ∈ eachindex(reactions)\n",
    "        reactionstring = reactions[i]; # get the reaction string\n",
    "        components = split(reactionstring, \",\"); # split the reaction string into components around ,\n",
    "        rname = components[1] |> String; # get the reaction name\n",
    "        rnamesarray[i] = rname; # add the reaction name to the array\n",
    "    end\n",
    "\n",
    "    # return -\n",
    "    model, reactionnamesmap, inversereactionsnamemap, rnamesarray\n",
    "end;"
   ]
  },
  {
   "cell_type": "markdown",
   "id": "2e6a53bb",
   "metadata": {},
   "source": [
    "## Task 2: Update the Bounds Array\n",
    "Fill me in"
   ]
  },
  {
   "cell_type": "markdown",
   "id": "b0a784e6",
   "metadata": {},
   "source": [
    "There are pathologies when using flux balance analysis to model gene expression, e.g., translation occurs without transcription, and transcription occurs maximally without inducer $I$, etc. How can we fix this? \n",
    "\n",
    "__Answer__: there is a trick with the bounds (that incorporates many things we explored in class) that we can use to fix the gene expression problem:\n",
    "* [Vilkhovoy M, Horvath N, Shih CH, Wayman JA, Calhoun K, Swartz J, Varner JD. Sequence-Specific Modeling of E. coli Cell-Free Protein Synthesis. ACS Synth Biol. 2018 Aug 17;7(8):1844-1857. doi: 10.1021/acssynbio.7b00465. Epub 2018 Jul 16. PMID: 29944340.](https://www.biorxiv.org/content/10.1101/139774v2)\n",
    "\n",
    "__Fix__: We (equality) bound a transcription rate $\\hat{v}_{i}$ as $\\hat{r}_{X, i}u_{i} = \\hat{v}_{i} = \\hat{r}_{X, i}u_{i}$, while a translation rate is bounded from above by the modified kinetic limit: $0\\leq\\hat{v}_{j}\\leq\\hat{r}_{L,j}w_{j}$. This is interesting because the kinetic limits are (semi)mechanistic descriptions of the transcription and translation rate. At the same time, the control variables contain continuous Boltzmann-type descriptions of the logical controlling of these processes.\n",
    "\n",
    "Let's implement this for our gene expression model. First, let's compute the kinetic limit of transcription for your gene of interest:"
   ]
  },
  {
   "cell_type": "code",
   "execution_count": 8,
   "id": "7969f081",
   "metadata": {},
   "outputs": [],
   "source": [
    "rX = compute_transcription_rate(parameters); # transcription kinetic limit"
   ]
  },
  {
   "cell_type": "code",
   "execution_count": 9,
   "id": "1e79db92",
   "metadata": {},
   "outputs": [
    {
     "name": "stdout",
     "output_type": "stream",
     "text": [
      "Maximim transcription rate (mu/mol-hr): 0.2088758116178622\n"
     ]
    }
   ],
   "source": [
    "println(\"Maximim transcription rate (mu/mol-hr): \", rX); # print the transcription rate"
   ]
  },
  {
   "cell_type": "markdown",
   "id": "51b6b48b",
   "metadata": {},
   "source": [
    "Next, we'll compute the transcriptional and translational control terms that govern inducer $I$ driven gene expression. For simplicity, let's assume the translation control term is unity $w = 1$ and focus on a Boltzmann-type description of the transcriptional control term $u$. \n",
    "\n",
    "For the PhoA promoter, let's assume three states:\n",
    "* __State 0: Bare gene__: This state is just the gene without anything bound to it. This state will __not__ lead to transcription. This will be our ground state. The pseudo energy for this state $\\epsilon_{0} \\equiv 0$ J/mol.\n",
    "* __State 1: RNAP only__: Only RNAP is bound to the promoter without inducer bound. This state __will__ lead to transcription at a low level. The pseudo energy for this state $\\epsilon_{1} \\approx 3474$ J/mol.\n",
    "* __State 2: RNAP + I__: In this state both RNAP and inducer $I$ are bound to the promoter. This state __will__ lead to transcription. The pseudo energy for this state $\\epsilon_{2} \\approx -14,707$ J/mol.\n",
    "\n",
    "Update the code block below to compute $u_{1}$ (the control variable for state 1), $u_{2}$ (the control variable for state 2), and translation control parameter $w$. \n",
    "* _What the what, confused?_ For a reference on how to do this (and what we are talking about), see the Supplemental materials of [Moon et al.](https://pubmed.ncbi.nlm.nih.gov/23041931/) and/or the lecture `L6c` materials.\n",
    "\n",
    "Update the code block below at the `TODO` statements."
   ]
  },
  {
   "cell_type": "code",
   "execution_count": 10,
   "id": "5231b40e",
   "metadata": {},
   "outputs": [],
   "source": [
    "u₁, u₂, w = let \n",
    "    \n",
    "    # initialize -\n",
    "    w = 1.0;\n",
    "    u₁ = 0.0; # this is udagger (background)\n",
    "    u₂ = 0.0; # this is u (induced)\n",
    "    ϵₒ = 0.0; # pseudo-energy for the background (gene only) state 0\n",
    "    ϵ₁ = 3474.0; # pseudo-energy for state 1 (gene + RNAP) - units: J/mol\n",
    "    ϵ₂ = -14707.0; # pseudo-energy for state 2 (gene + RNAP + P_PhoB) - units: J/mol\n",
    "\n",
    "    # we'll model the f₂ function as the fraction of PhoB binding. Others are at defaults\n",
    "    fₒ = 1.0; # default value\n",
    "    f₁ = 1.0; # default value\n",
    "    f₂ = INDUCER/(INDUCER + KIX); # hmmm. This is sort of interesting ...\n",
    "\n",
    "    # compute the weights of each state\n",
    "    Wₒ = fₒ*exp(-β*ϵₒ); # TODO: Update the weight term for state 0\n",
    "    W₁ = f₁*exp(-β*ϵ₁); # TODO: Update the weight term for state 1\n",
    "    W₂ = f₂*exp(-β*ϵ₂); # TODO: Update the weight term for state 2\n",
    "    Z = Wₒ + W₁ + W₂; # partition function\n",
    "\n",
    "    # Boltzmann promoter logic here -\n",
    "    u₁ = W₁/Z; # TODO: Update u₁ (this is u dagger in the notes)\n",
    "    u₂ = W₂/Z; # TODO: Update u₂ (this is u)\n",
    "    \n",
    "    # return -\n",
    "    u₁,u₂,w\n",
    "end;"
   ]
  },
  {
   "cell_type": "code",
   "execution_count": 11,
   "id": "f422f9f6",
   "metadata": {},
   "outputs": [
    {
     "name": "stdout",
     "output_type": "stream",
     "text": [
      "u₁ (background expression factor): 0.06146297872016685 and u₂ (induced expression) 0.7020993915068997\n"
     ]
    }
   ],
   "source": [
    "println(\"u₁ (background expression factor): $(u₁) and u₂ (induced expression) $(u₂)\"); # print the u₁ and u₂ value"
   ]
  },
  {
   "cell_type": "markdown",
   "id": "3dddfc5b",
   "metadata": {},
   "source": [
    "Finally, let's compute the kinetic limit of translation. This one is tricky because it requires an estimate of the _concentration_ of the mRNA for gene of interest.\n",
    "\n",
    "See lecture `L5b` for a description of the kinetic limit of translation expression (or the reference we gave above). Let's approximate the mRNA level by the steady-state level (written for transcript $j$):\n",
    "$$\n",
    "\\begin{align*}\n",
    " m^{\\star}_{j} & = \\frac{r_{X,j}u_{j}\\left(\\dots\\right) + \\lambda_{j}}{\\theta_{m,j}+\\mu}\\quad\\text{for }j=1,2,\\dots,N\n",
    "\\end{align*}\n",
    "$$\n",
    "where $\\lambda_{j} \\equiv r_{X,j}u^{\\dagger}_{j}$. Update the code block below at the `TODO` statements."
   ]
  },
  {
   "cell_type": "code",
   "execution_count": 12,
   "id": "f7b00dd9",
   "metadata": {},
   "outputs": [],
   "source": [
    "rL, m̄ = let\n",
    "\n",
    "    # get constants from parameters -\n",
    "    θ = parameters[:kdX]; # first order degradation constant mRNA (units: 1/hr)\n",
    "    KL = parameters[:KL]; # saturation constant translation (units: μmol/gDW-hr)\n",
    "    VMAXL = parameters[:VL]; # VMAX translation (correct PhoA length) (units: μmol/gDW-hr)\n",
    "    τ = parameters[:L_tau_factor]; # relative time constant translation (units: dimensionless)\n",
    "    \n",
    "    # compute -\n",
    "    m = (rX*u₁ + rX*u₂)/(θ + μ); # TODO: approx mRNA level with steady-state\n",
    "    rL = VMAXL*(m/(τ*KL+(1+τ)*m)); # compute the kinetic limit of translation\n",
    "\n",
    "    # return -\n",
    "    rL, m\n",
    "end;"
   ]
  },
  {
   "cell_type": "code",
   "execution_count": 13,
   "id": "0b0a19be",
   "metadata": {},
   "outputs": [
    {
     "name": "stdout",
     "output_type": "stream",
     "text": [
      "Maximim translation rate (mu/mol-hr): 0.18702150780759302\n"
     ]
    }
   ],
   "source": [
    "println(\"Maximim translation rate (mu/mol-hr): \", rL); # print the translation rate"
   ]
  },
  {
   "cell_type": "markdown",
   "id": "19a7f807",
   "metadata": {},
   "source": [
    "### Update the bounds\n",
    "Now that we have an estimate of the transcription $\\hat{r}_{X}u$ and the translation $\\hat{r}_{L}w$ rates, we can update the flux balance analysis problem bounds. Let's play around with these bounds to see what happens.\n",
    "\n",
    "* There is nothing for you to do on this block, but if you are interested, please unhide the block and take a look. "
   ]
  },
  {
   "cell_type": "code",
   "execution_count": 14,
   "id": "4708021f",
   "metadata": {},
   "outputs": [],
   "source": [
    "fluxbounds = let\n",
    "\n",
    "    # make a copy of the default flux bounds -\n",
    "    flux_bounds = copy(model.fluxbounds);\n",
    "\n",
    "    # what is the the bound on transcription?\n",
    "    XB = rX*(u₁ + u₂); # this is the lower bound on transcription\n",
    "\n",
    "    # update the bounds for gene exprssion -\n",
    "    flux_bounds[reactionnamesmap[\"transcription_test\"], 1] = XB; # transcrption lower bound state 1\n",
    "    flux_bounds[reactionnamesmap[\"transcription_test\"], 2] = XB; # transcrption upper bound state 1\n",
    "\n",
    "    flux_bounds[reactionnamesmap[\"translation_initiation_test\"], 1] = rL*w; # translation lower bound\n",
    "    flux_bounds[reactionnamesmap[\"translation_initiation_test\"], 2] = rL*w; # translation upper bound\n",
    "    flux_bounds[reactionnamesmap[\"translation_test\"], 1] = 0.0; # translation lower bound\n",
    "    flux_bounds[reactionnamesmap[\"translation_test\"], 2] = rL*w; # translation upper bound\n",
    "\n",
    "    # update bounds on tRNA - no exchange of charged tRNA\n",
    "    tRNA_exchange_reactions = findall(x-> (contains(x, \"exchange\") && contains(x,\"tRNA\") && contains(x, \"_M_\")), rnamesarray); # find the index of the reaction\n",
    "    for i ∈ eachindex(tRNA_exchange_reactions)\n",
    "        flux_bounds[tRNA_exchange_reactions[i], 1] = 0.0; # no charged tRNA from box\n",
    "        flux_bounds[tRNA_exchange_reactions[i], 2] = 0.0; # no charged tRNA into box\n",
    "    end\n",
    "\n",
    "    # bound mRNA degradation -\n",
    "    θ = parameters[:kdX]; # first order degradation constant mRNA (units: 1/hr)\n",
    "    flux_bounds[reactionnamesmap[\"mRNA_degradation_test\"], 1] = 0.0 # lower bound on mRNA degradation\n",
    "    flux_bounds[reactionnamesmap[\"mRNA_degradation_test\"], 2] = θ*m̄; # upper bound on mRNA degradation\n",
    "\n",
    "    # no mRNA exchange -\n",
    "    flux_bounds[reactionnamesmap[\"exchange_mRNA_test\"], 1] = 0.0; # lower bound on mRNA exchange\n",
    "    flux_bounds[reactionnamesmap[\"exchange_mRNA_test\"], 2] = 0.0; # upper bound on mRNA exchange\n",
    "\n",
    "    # return new bounds\n",
    "    flux_bounds;\n",
    "end;"
   ]
  },
  {
   "cell_type": "code",
   "execution_count": 15,
   "id": "af9e8112",
   "metadata": {},
   "outputs": [],
   "source": [
    "model.fluxbounds = fluxbounds; # update the flux bounds in the model"
   ]
  },
  {
   "cell_type": "markdown",
   "id": "ca645c55",
   "metadata": {},
   "source": [
    "## Task 3: Estimate the Protein Production Rate\n",
    "In this task, we will estimate the protein production rate in a cell-free system as a function of inducer concentration. Let's begin by updating the objective function."
   ]
  },
  {
   "cell_type": "code",
   "execution_count": 16,
   "id": "02c3ea17",
   "metadata": {},
   "outputs": [],
   "source": [
    "objective_coefficients = let\n",
    "\n",
    "    # initialize -\n",
    "    nreactions = length(model.reactions); # how many reactions do we have?\n",
    "    objective_coefficients = zeros(nreactions); # initialize the objective coefficients\n",
    "\n",
    "    # which reactions do we want to maximize?\n",
    "    reactions_to_maximize = [\"translation_test\"]; # TODO: Add reactions that we want to max\n",
    "    for i ∈ eachindex(reactions_to_maximize)\n",
    "        reaction = reactions_to_maximize[i];\n",
    "        j = reactionnamesmap[reaction];\n",
    "        objective_coefficients[j] = 1;\n",
    "    end\n",
    "\n",
    "    # return -\n",
    "    objective_coefficients;\n",
    "end;"
   ]
  },
  {
   "cell_type": "code",
   "execution_count": 17,
   "id": "aeb39438",
   "metadata": {},
   "outputs": [],
   "source": [
    "model.objective = objective_coefficients; # update the objectivec coefficients"
   ]
  },
  {
   "cell_type": "markdown",
   "id": "bd609365",
   "metadata": {},
   "source": [
    "### Compute the optimal flux distribution \n",
    "Next, let's compute the optimal metabolic distribution $\\left\\{\\hat{v}_{i} \\mid i = 1,2,\\dots,\\mathcal{R}\\right\\}$ by solving the [linear programming problem](). We solve the optimization problem by passing the `model::MyPrimalFluxBalanceAnalysisCalculationModel` to [the `solve(...)` method](src/Compute.jl). This method returns a `solution::Dict{String, Any}` dictionary, which holds information about the solution.\n",
    "* __Why the [try-catch environment](https://docs.julialang.org/en/v1/base/base/#try)__? The [solve(...) method](src/Compute.jl) has an [@assert statement](https://docs.julialang.org/en/v1/base/base/#Base.@assert) to check if the calculation has converged. Thus, the solve method can [throw](https://docs.julialang.org/en/v1/base/base/#Core.throw) an [AssertionError](https://docs.julialang.org/en/v1/base/base/#Core.AssertionError) if the optimization problem fails to converge. To gracefully handle this case, we use a [try-catch construct](https://docs.julialang.org/en/v1/base/base/#try). See the [is_solved_and_feasible method from the JuMP package](https://jump.dev/JuMP.jl/stable/api/JuMP/#JuMP.is_solved_and_feasible) for more information."
   ]
  },
  {
   "cell_type": "code",
   "execution_count": 18,
   "id": "5ec0985a",
   "metadata": {},
   "outputs": [],
   "source": [
    "solution = let\n",
    "    \n",
    "    solution = nothing; # initialize nothing for the solution\n",
    "    try\n",
    "        solution = solve(model); # call the solve method with our problem model -\n",
    "    catch error\n",
    "        println(\"error: $(error)\"); # Oooooops! Looks like we have a *major malfunction*, problem didn't solve\n",
    "    end\n",
    "\n",
    "    # return solution\n",
    "    solution\n",
    "end;"
   ]
  },
  {
   "cell_type": "markdown",
   "id": "82ad289e",
   "metadata": {},
   "source": [
    "### Flux table\n",
    "\n",
    "If the optimization problem converged, we should have the optimal flux values throughout the system. Let's use [the `pretty_tables(...)` method exported by the `PrettyTables.jl` package](https://github.com/ronisbr/PrettyTables.jl) to display the estimated optimal metabolic fluxes. `Unhide` the code block below to see how we constructed the flux table."
   ]
  },
  {
   "cell_type": "code",
   "execution_count": 21,
   "id": "85898f38",
   "metadata": {},
   "outputs": [
    {
     "name": "stdout",
     "output_type": "stream",
     "text": [
      "=============================== ============= ============= ============== =====================================================================================================================================================================================================================================================================================================================================================================================================================================================================================================================\n",
      " \u001b[1m Reaction                     \u001b[0m \u001b[1m v̂ᵢ          \u001b[0m \u001b[1m v̂ᵢ LB       \u001b[0m \u001b[1m v̂ᵢ UB        \u001b[0m \u001b[1m Reaction                                                                                                                                                                                                                                                                                                                                                                                                                                                                                                           \u001b[0m\n",
      " \u001b[90m                              \u001b[0m \u001b[90m μmol/L-time \u001b[0m \u001b[90m μmol/L-time \u001b[0m \u001b[90m μmmol/L-time \u001b[0m \u001b[90m N/A                                                                                                                                                                                                                                                                                                                                                                                                                                                                                                                \u001b[0m\n",
      "=============================== ============= ============= ============== =====================================================================================================================================================================================================================================================================================================================================================================================================================================================================================================================\n",
      "  transcription_test             0.15949       0.15949       0.15949        RNAP_OPEN_gene_test+183*M_gtp_c+231*M_ctp_c+101*M_utp_c+163*M_atp_c+678*M_h2o_c = mRNA_test+gene_test+RNAP+678*M_ppi_c\n",
      "  mRNA_degradation_test          0.15949       0.0           0.15949        mRNA_test = 183*M_gmp_c+231*M_cmp_c+101*M_ump_c+163*M_amp_c\n",
      "  translation_initiation_test    0.187022      0.187022      0.187022       mRNA_test+RIBOSOME = RIBOSOME_START_test\n",
      "  translation_test               0.187022      0.0           0.187022       RIBOSOME_START_test+450*M_gtp_c+450*M_h2o_c+8.0*M_ala_L_c_tRNA+6.0*M_arg_L_c_tRNA+13.0*M_asn_L_c_tRNA+17.0*M_asp_L_c_tRNA+2.0*M_cys_L_c_tRNA+14.0*M_glu_L_c_tRNA+8.0*M_gln_L_c_tRNA+20.0*M_gly_L_c_tRNA+9.0*M_his_L_c_tRNA+12.0*M_ile_L_c_tRNA+19.0*M_leu_L_c_tRNA+18.0*M_lys_L_c_tRNA+5.0*M_met_L_c_tRNA+12.0*M_phe_L_c_tRNA+10.0*M_pro_L_c_tRNA+9.0*M_ser_L_c_tRNA+15.0*M_thr_L_c_tRNA+1.0*M_trp_L_c_tRNA+10.0*M_tyr_L_c_tRNA+17.0*M_val_L_c_tRNA = RIBOSOME+mRNA_test+prot_test+450*M_gdp_c+450*M_pi_c+225*tRNA\n",
      "  tRNA_charging_M_ala_L_c_test   0.187022      0.0           1000.0         8.0*M_ala_L_c+8.0*M_atp_c+8.0*tRNA+8.0*M_h2o_c = 8.0*M_ala_L_c_tRNA+8.0*M_amp_c+8.0*M_ppi_c\n",
      "  tRNA_charging_M_arg_L_c_test   0.187022      0.0           1000.0         6.0*M_arg_L_c+6.0*M_atp_c+6.0*tRNA+6.0*M_h2o_c = 6.0*M_arg_L_c_tRNA+6.0*M_amp_c+6.0*M_ppi_c\n",
      "  tRNA_charging_M_asn_L_c_test   0.187022      0.0           1000.0         13.0*M_asn_L_c+13.0*M_atp_c+13.0*tRNA+13.0*M_h2o_c = 13.0*M_asn_L_c_tRNA+13.0*M_amp_c+13.0*M_ppi_c\n",
      "  tRNA_charging_M_asp_L_c_test   0.187022      0.0           1000.0         17.0*M_asp_L_c+17.0*M_atp_c+17.0*tRNA+17.0*M_h2o_c = 17.0*M_asp_L_c_tRNA+17.0*M_amp_c+17.0*M_ppi_c\n",
      "  tRNA_charging_M_cys_L_c_test   0.187022      0.0           1000.0         2.0*M_cys_L_c+2.0*M_atp_c+2.0*tRNA+2.0*M_h2o_c = 2.0*M_cys_L_c_tRNA+2.0*M_amp_c+2.0*M_ppi_c\n",
      "  tRNA_charging_M_glu_L_c_test   0.187022      0.0           1000.0         14.0*M_glu_L_c+14.0*M_atp_c+14.0*tRNA+14.0*M_h2o_c = 14.0*M_glu_L_c_tRNA+14.0*M_amp_c+14.0*M_ppi_c\n",
      "  tRNA_charging_M_gln_L_c_test   0.187022      0.0           1000.0         8.0*M_gln_L_c+8.0*M_atp_c+8.0*tRNA+8.0*M_h2o_c = 8.0*M_gln_L_c_tRNA+8.0*M_amp_c+8.0*M_ppi_c\n",
      "  tRNA_charging_M_gly_L_c_test   0.187022      0.0           1000.0         20.0*M_gly_L_c+20.0*M_atp_c+20.0*tRNA+20.0*M_h2o_c = 20.0*M_gly_L_c_tRNA+20.0*M_amp_c+20.0*M_ppi_c\n",
      "  tRNA_charging_M_his_L_c_test   0.187022      0.0           1000.0         9.0*M_his_L_c+9.0*M_atp_c+9.0*tRNA+9.0*M_h2o_c = 9.0*M_his_L_c_tRNA+9.0*M_amp_c+9.0*M_ppi_c\n",
      "  tRNA_charging_M_ile_L_c_test   0.187022      0.0           1000.0         12.0*M_ile_L_c+12.0*M_atp_c+12.0*tRNA+12.0*M_h2o_c = 12.0*M_ile_L_c_tRNA+12.0*M_amp_c+12.0*M_ppi_c\n",
      "  tRNA_charging_M_leu_L_c_test   0.187022      0.0           1000.0         19.0*M_leu_L_c+19.0*M_atp_c+19.0*tRNA+19.0*M_h2o_c = 19.0*M_leu_L_c_tRNA+19.0*M_amp_c+19.0*M_ppi_c\n",
      "  tRNA_charging_M_lys_L_c_test   0.187022      0.0           1000.0         18.0*M_lys_L_c+18.0*M_atp_c+18.0*tRNA+18.0*M_h2o_c = 18.0*M_lys_L_c_tRNA+18.0*M_amp_c+18.0*M_ppi_c\n",
      "  tRNA_charging_M_met_L_c_test   0.187022      0.0           1000.0         5.0*M_met_L_c+5.0*M_atp_c+5.0*tRNA+5.0*M_h2o_c = 5.0*M_met_L_c_tRNA+5.0*M_amp_c+5.0*M_ppi_c\n",
      "  tRNA_charging_M_phe_L_c_test   0.187022      0.0           1000.0         12.0*M_phe_L_c+12.0*M_atp_c+12.0*tRNA+12.0*M_h2o_c = 12.0*M_phe_L_c_tRNA+12.0*M_amp_c+12.0*M_ppi_c\n",
      "  tRNA_charging_M_pro_L_c_test   0.187022      0.0           1000.0         10.0*M_pro_L_c+10.0*M_atp_c+10.0*tRNA+10.0*M_h2o_c = 10.0*M_pro_L_c_tRNA+10.0*M_amp_c+10.0*M_ppi_c\n",
      "  tRNA_charging_M_ser_L_c_test   0.187022      0.0           1000.0         9.0*M_ser_L_c+9.0*M_atp_c+9.0*tRNA+9.0*M_h2o_c = 9.0*M_ser_L_c_tRNA+9.0*M_amp_c+9.0*M_ppi_c\n",
      "  tRNA_charging_M_thr_L_c_test   0.187022      0.0           1000.0         15.0*M_thr_L_c+15.0*M_atp_c+15.0*tRNA+15.0*M_h2o_c = 15.0*M_thr_L_c_tRNA+15.0*M_amp_c+15.0*M_ppi_c\n",
      "  tRNA_charging_M_trp_L_c_test   0.187022      0.0           1000.0         1.0*M_trp_L_c+1.0*M_atp_c+1.0*tRNA+1.0*M_h2o_c = 1.0*M_trp_L_c_tRNA+1.0*M_amp_c+1.0*M_ppi_c\n",
      "  tRNA_charging_M_tyr_L_c_test   0.187022      0.0           1000.0         10.0*M_tyr_L_c+10.0*M_atp_c+10.0*tRNA+10.0*M_h2o_c = 10.0*M_tyr_L_c_tRNA+10.0*M_amp_c+10.0*M_ppi_c\n",
      "  tRNA_charging_M_val_L_c_test   0.187022      0.0           1000.0         17.0*M_val_L_c+17.0*M_atp_c+17.0*tRNA+17.0*M_h2o_c = 17.0*M_val_L_c_tRNA+17.0*M_amp_c+17.0*M_ppi_c\n",
      "  exchange_M_ala_L_c             1.49617       -1000.0       1000.0         [] = M_ala_L_c\n",
      "  exchange_M_amp_c               -68.0767      -1000.0       1000.0         [] = M_amp_c\n",
      "  exchange_M_arg_L_c             1.12213       -1000.0       1000.0         [] = M_arg_L_c\n",
      "  exchange_M_asn_L_c             2.43128       -1000.0       1000.0         [] = M_asn_L_c\n",
      "  exchange_M_asp_L_c             3.17937       -1000.0       1000.0         [] = M_asp_L_c\n",
      "  exchange_M_atp_c               68.0767       -1000.0       1000.0         [] = M_atp_c\n",
      "  exchange_M_cmp_c               -36.8421      -1000.0       1000.0         [] = M_cmp_c\n",
      "  exchange_M_ctp_c               36.8421       -1000.0       1000.0         [] = M_ctp_c\n",
      "  exchange_M_cys_L_c             0.374043      -1000.0       1000.0         [] = M_cys_L_c\n",
      "  exchange_M_gdp_c               -84.1597      -1000.0       1000.0         [] = M_gdp_c\n",
      "  exchange_M_gln_L_c             1.49617       -1000.0       1000.0         [] = M_gln_L_c\n",
      "  exchange_M_glu_L_c             2.6183        -1000.0       1000.0         [] = M_glu_L_c\n",
      "  exchange_M_gly_L_c             3.74043       -1000.0       1000.0         [] = M_gly_L_c\n",
      "  exchange_M_gmp_c               -29.1866      -1000.0       1000.0         [] = M_gmp_c\n",
      "  exchange_M_gtp_c               113.346       -1000.0       1000.0         [] = M_gtp_c\n",
      "  exchange_M_h2o_c               234.374       -1000.0       1000.0         [] = M_h2o_c\n",
      "  exchange_M_his_L_c             1.68319       -1000.0       1000.0         [] = M_his_L_c\n",
      "  exchange_M_ile_L_c             2.24426       -1000.0       1000.0         [] = M_ile_L_c\n",
      "  exchange_M_leu_L_c             3.55341       -1000.0       1000.0         [] = M_leu_L_c\n",
      "  exchange_M_lys_L_c             3.36639       -1000.0       1000.0         [] = M_lys_L_c\n",
      "  exchange_M_met_L_c             0.935108      -1000.0       1000.0         [] = M_met_L_c\n",
      "  exchange_M_phe_L_c             2.24426       -1000.0       1000.0         [] = M_phe_L_c\n",
      "  exchange_M_pi_c                -84.1597      -1000.0       1000.0         [] = M_pi_c\n",
      "  exchange_M_ppi_c               -150.214      -1000.0       1000.0         [] = M_ppi_c\n",
      "  exchange_M_pro_L_c             1.87022       -1000.0       1000.0         [] = M_pro_L_c\n",
      "  exchange_M_ser_L_c             1.68319       -1000.0       1000.0         [] = M_ser_L_c\n",
      "  exchange_M_thr_L_c             2.80532       -1000.0       1000.0         [] = M_thr_L_c\n",
      "  exchange_M_trp_L_c             0.187022      -1000.0       1000.0         [] = M_trp_L_c\n",
      "  exchange_M_tyr_L_c             1.87022       -1000.0       1000.0         [] = M_tyr_L_c\n",
      "  exchange_M_ump_c               -16.1085      -1000.0       1000.0         [] = M_ump_c\n",
      "  exchange_M_utp_c               16.1085       -1000.0       1000.0         [] = M_utp_c\n",
      "  exchange_M_val_L_c             3.17937       -1000.0       1000.0         [] = M_val_L_c\n",
      "  exchange_RNAP                  -0.15949      -1000.0       1000.0         [] = RNAP\n",
      "  exchange_RNAP_OPEN_gene_test   0.15949       -1000.0       1000.0         [] = RNAP_OPEN_gene_test\n",
      "  exchange_gene_test             -0.15949      -1000.0       1000.0         [] = gene_test\n",
      "  exchange_prot_test             -0.187022     -1000.0       1000.0         [] = prot_test\n",
      "=============================== ============= ============= ============== =====================================================================================================================================================================================================================================================================================================================================================================================================================================================================================================================\n"
     ]
    }
   ],
   "source": [
    "let\n",
    "\n",
    "    # setup -\n",
    "    S = model.S;\n",
    "    flux_bounds_array = model.fluxbounds;\n",
    "    number_of_reactions = size(S,2); # columns\n",
    "    flux = solution[\"argmax\"];\n",
    "\n",
    "\t# nonzero fluxes -\n",
    "\tnonzero_fluxes = findall(v-> abs(v) ≥ 1e-6, flux); # find the non-zero fluxes\n",
    "\tnumber_of_nonzero_fluxes = length(nonzero_fluxes); # how many non-zero fluxes do we have?\n",
    "    \n",
    "    # populate the state table -\n",
    "\tflux_table = Array{Any,2}(undef,number_of_nonzero_fluxes,5)\n",
    "\tfor reaction_index ∈ eachindex(nonzero_fluxes)\n",
    "\t\ti = nonzero_fluxes[reaction_index]; # get the index of the reaction\n",
    "\t\tflux_table[reaction_index,1] = inversereactionsnamemap[i]\n",
    "\t\tflux_table[reaction_index,2] = flux[i]\n",
    "\t\tflux_table[reaction_index,3] = flux_bounds_array[i,1]\n",
    "\t\tflux_table[reaction_index,4] = flux_bounds_array[i,2]\n",
    "        flux_table[reaction_index,5] = inversereactionsnamemap[i] |> key-> rd[key]\n",
    "\tend\n",
    "\n",
    "    # header row -\n",
    "\tflux_table_header_row = ([\"Reaction\",\"v̂ᵢ\", \"v̂ᵢ LB\", \"v̂ᵢ UB\", \"Reaction\"],[\"\",\"μmol/L-time\", \"μmol/L-time\", \"μmmol/L-time\", \"N/A\"]);\n",
    "\t\t\n",
    "\t# write the table -\n",
    "\tpretty_table(flux_table; header=flux_table_header_row, tf=tf_simple, alignment = :l)\n",
    "end"
   ]
  },
  {
   "cell_type": "markdown",
   "id": "c42a05aa",
   "metadata": {},
   "source": [
    "## Discussion"
   ]
  },
  {
   "cell_type": "markdown",
   "id": "9016490f",
   "metadata": {},
   "source": [
    "## Tests\n",
    "`Unhide` the code block below (if you are curious) about how we implemented the tests and what we are testing. In these tests, we check values in your notebook and give feedback on which items are correct, missing etc."
   ]
  },
  {
   "cell_type": "code",
   "execution_count": null,
   "id": "c2890417",
   "metadata": {},
   "outputs": [],
   "source": [
    "let\n",
    "    @testset verbose = true \"CHEME 5450 practicum test suite\" begin\n",
    "        \n",
    "        @testset \"Setup\" begin\n",
    "            @test isnothing(model) == false\n",
    "            @test isnothing(rd) == false\n",
    "            @test isnothing(reactionnamesmap) == false\n",
    "        end\n",
    "\n",
    "        @testset \"Problem, Bounds and Optmization\" begin\n",
    "            @test rX != 0.0; # kinetic limit of transcription should be non-zero\n",
    "            @test rL != 0.0; # kinetic limit of translation should be non-zero\n",
    "            @test w == 1.0; # default value \n",
    "            @test u₁ != 0.0; # background state should be non-zero\n",
    "            @test u₂ != 0.0; # induced state should be non-zero            \n",
    "            @test isempty(solution) == false # solution should not be empty\n",
    "        end\n",
    "        \n",
    "        @testset \"Discussion questions\" begin\n",
    "            @test did_I_answer_DQ1 == true\n",
    "            @test did_I_answer_DQ2 == true\n",
    "            @test did_I_answer_DQ3 == true\n",
    "        end\n",
    "    end\n",
    "end;"
   ]
  }
 ],
 "metadata": {
  "kernelspec": {
   "display_name": "Julia 1.11.5",
   "language": "julia",
   "name": "julia-1.11"
  },
  "language_info": {
   "file_extension": ".jl",
   "mimetype": "application/julia",
   "name": "julia",
   "version": "1.11.5"
  }
 },
 "nbformat": 4,
 "nbformat_minor": 5
}
