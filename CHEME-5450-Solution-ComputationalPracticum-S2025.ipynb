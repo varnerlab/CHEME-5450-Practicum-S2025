{
 "cells": [
  {
   "cell_type": "markdown",
   "id": "6dca204d-08c6-4853-831e-35c30e109acf",
   "metadata": {},
   "source": [
    "# Compute the Resource Requirements for Gene Expression in Cell-Free Systems\n",
    "In this practicum, we will do a proof-of-concept study that computes the resource requirements for gene expression in cell-free systems. We will use a simplified model of the metabolic reactions occurring during transcription and translation.\n",
    "\n",
    "__Case__: let's consider a simple model of inducible gene expression in a cell-free system operating in a well-mixed batch volume where a single target gene is expressed following the addition of an inducer $I$. We'll assume that we are operating a [reconstituted in-vitro transcription/translation system such as PURExpress](https://www.neb.com/en-us/applications/protein-expression/cell-free-protein-expression/purexpress?srsltid=AfmBOorYg5kvpcMTOG1CrUK3lDBXRcFJVGwEuXMuYr9zeyaKBf7pNQo_) which does not contain any endogenous genes, or metabolic enzymes to generate energy or precursors. The system is assumed to be a batch system, i.e., we are not adding any additional resources after the initial setup.\n",
    "\n",
    "## Tasks\n",
    "Before we get started, execute the `Run All Cells` command to check if you have any code or setup issues. Code issues, post a question on EdDiscussion.\n",
    "* __Task 1: Build the Stoichiometric and Default Bounds Matrices__: In this task, we build the system matrices, i.e., the stoichiometric matrix and the default bounds array for the cell-free system. These will be _sequence-specific_ matrices, i.e., built (on the fly) for a specific sequence we want to express. \n",
    "*  __Task 2: Update the Bounds Array__: In this task, we update the default bounds array to reflect the bounds for the cell-free system. In particular, we know that there are pathologies when using flux balance analysis to model gene expression, e.g., translation occurs without transcription, and transcription occurs maximally without inducer $I$, etc. We can fix these problems by being clever about the bounds for the reactions in the cell-free system. \n",
    "* __Task 3: Estimate the Steady-State Cell-Free Transcription and Translation Rates__: In this task, we will estimate the rate of transcription and translation for our protein of interest in a cell-free system as a function of system parameters, such as inducer concentration. This will generate a set of steady-state fluxes for the system that we can explore.\n",
    "\n",
    "Let's get started! (Don't forget to answer the discussion questions!)\n",
    "\n",
    "___"
   ]
  },
  {
   "cell_type": "markdown",
   "id": "03d773d0",
   "metadata": {},
   "source": [
    "## Setup, Data, and Prerequisites\n",
    "Before we get going, let's set up the computational environment by including the `Include.jl` file, loading any needed resources, such as sample datasets, and setting up any required constants. \n",
    "* The `Include.jl` file also loads external packages, various functions that we will use in the exercise, and custom types to model the components of our problem. It checks for a `Manifest.toml` file; if it finds one, packages are loaded. Other packages are downloaded and then loaded."
   ]
  },
  {
   "cell_type": "code",
   "execution_count": 1,
   "id": "0d3d5cee-2060-4886-9476-53f1c2d951f0",
   "metadata": {},
   "outputs": [],
   "source": [
    "include(\"Include.jl\");"
   ]
  },
  {
   "cell_type": "markdown",
   "id": "cf1d1749",
   "metadata": {},
   "source": [
    "### Constants\n",
    "Let's set up some constants that we will use in the exercise. The comments in the code provide more details on each constant, its purpose, its value, etc."
   ]
  },
  {
   "cell_type": "code",
   "execution_count": null,
   "id": "42a5b8cf",
   "metadata": {},
   "outputs": [],
   "source": [
    "R = 8.314; # universal gas constant (units: J/(mol*K))\n",
    "T = 37 + 273.15; # temperature (units: K);\n",
    "β = 1/(R*T); # inverse temperature (units: 1/(J*mol)) - thermodynamic beta in units of 1/(J*mol)\n",
    "μ = 0.0; # in this case no growth, we are cell free!\n",
    "parameters = generate_parameter_dictionary(joinpath(_PATH_TO_CONFIGURATION, \"Parameters.json\")); # load the biophysical parameters (approximately true)\n",
    "INDUCER = 1.0; # initial concentration of the inducer (units: mM)\n",
    "KIX = 10.0; # Saturation constant for the Hill function in the u-function (units: mM)"
   ]
  },
  {
   "cell_type": "markdown",
   "id": "83ba7f12",
   "metadata": {},
   "source": [
    "## Task 1: Build the Stoichiometric and Default Bounds Matrices\n",
    "In this task, we will build the system matrices, i.e., the stoichiometric matrix and the default bounds array for the cell-free system. These will be _sequence-specific_ matrices, i.e., built (on the fly) for a specific sequence we want to express. \n",
    "\n",
    "Let's start by loading the gene and protein sequences used in the exercise. The gene sequence is contained in the [`deGFP.gene` file](data/deGFP.gene), and the protein sequence is included in the [`deGFP.prot` file](data/deGFP.protein). The gene sequence is a DNA sequence, and the protein sequence is an amino acid sequence. We load these files using [the `load_gene_sequence_from_file(...)` method](src/Files.jl), while the protein sequence is loaded using the [the `load_protein_sequence_from_file(...)` method](src/Files.jl). \n",
    "* These methods take a path to the file as an argument, and return a `genesequence::String` and `proteinsequence::String` variable, respectively.\n",
    "\n",
    "Both sequences [are Strings](https://docs.julialang.org/en/v1/manual/strings/), so we'll need to process them in a bit."
   ]
  },
  {
   "cell_type": "code",
   "execution_count": 3,
   "id": "c862163a-eb92-46d0-a472-1a7712b743ae",
   "metadata": {},
   "outputs": [],
   "source": [
    "genesequence, proteinsequence = let\n",
    "\n",
    "    # setup the paths to the gene and protein sequence files\n",
    "    path_to_gene_file = joinpath(_PATH_TO_DATA, \"deGFP.gene\") # test gene\n",
    "    path_to_protein_file = joinpath(_PATH_TO_DATA, \"deGFP.prot\") # test protein\n",
    "\n",
    "    # load the sequences from the files - \n",
    "    gene_sequence = load_gene_sequence_from_file(path_to_gene_file); # load the gene sequence\n",
    "    protein_sequence = load_protein_sequence_from_file(path_to_protein_file); # load the protein sequence\n",
    "\n",
    "    # return -\n",
    "    gene_sequence, protein_sequence\n",
    "end;"
   ]
  },
  {
   "cell_type": "markdown",
   "id": "81e96b4a",
   "metadata": {},
   "source": [
    "__Generate metabolic transcription and translation reactions:__ In the code block below, we will generate the transcription and translation reactions for the gene and protein sequences. In addition, we create exchange reactions for every species in the system. We store the reactions in the `reactions::Vector{String}` variable. \n",
    "* The reactions are stored as strings, and we will parse them later to build the stoichiometric matrix and the default bounds array.\n",
    "The transcription and translation reactions are generated using the [the `transcription(...)` method](src/Sequence.jl) while the translation reactions are constructed using [the `translation(...)` method](src/Sequence.jl). Finally, the exchange reactions are generated using [the `exchange(...)` method](src/Sequence.jl).\n",
    "* _What are the transcription and translation reactions?_ Check out [the publication](https://www.biorxiv.org/content/10.1101/139774v1.full.pdf) for a specific description of these reactions. However, in short, these are metabolic reactions that occur during transcription and translation, including the consumption of ATP, GTP, and other metabolites, tRNA charging, and the production of mRNA and protein.\n",
    "\n",
    "What's cool in this case is that the transcription and translation reactions are generated using the gene and protein sequences, respectively. This means we can generate the reactions for any gene or protein sequence, and the stoichiometric matrix and default bounds array will be built on the fly."
   ]
  },
  {
   "cell_type": "code",
   "execution_count": 4,
   "id": "ecba48cc",
   "metadata": {},
   "outputs": [],
   "source": [
    "reactions = let\n",
    "\n",
    "    # initialize -\n",
    "    reactions = Vector{String}();\n",
    "    \n",
    "    # TXTL and \"hypothetical\" exchange reactions -\n",
    "    transcription_reactions = transcription(genesequence); # transcription reactions\n",
    "    translation_reactions = translation(proteinsequence); # translation reactions\n",
    "    txtl_reactions = [transcription_reactions; translation_reactions]; # combine transcription and translation reactions\n",
    "    \n",
    "    # build the exchange reactions -\n",
    "    exchange_reactions = exchangereactions(txtl_reactions); # exchange reactions\n",
    "    \n",
    "    # build the list of reactions -\n",
    "    reactions = [txtl_reactions; exchange_reactions]; # combine all reactions\n",
    "end;"
   ]
  },
  {
   "cell_type": "markdown",
   "id": "211d0727",
   "metadata": {},
   "source": [
    "__Write VFF reactions to file:__ In the code block below, we will write the reactions to a file in VFF format, and then use some code from lecture and the previous computational exercises to parse the VFF file and build the stoichiometric matrix and default bounds array."
   ]
  },
  {
   "cell_type": "code",
   "execution_count": 5,
   "id": "b85716bd",
   "metadata": {},
   "outputs": [],
   "source": [
    "let\n",
    "\n",
    "    # initialize -\n",
    "    path_to_reaction_file = joinpath(_PATH_TO_DATA, \"deGFP.reactions\"); # path to the reaction file\n",
    "\n",
    "    # write the reactions to the file -\n",
    "    open(path_to_reaction_file, \"w\") do io\n",
    "        for reaction in reactions\n",
    "            println(io, reaction); # write the reaction to the file\n",
    "        end\n",
    "    end\n",
    "end"
   ]
  },
  {
   "cell_type": "markdown",
   "id": "cb4a3940",
   "metadata": {},
   "source": [
    "__Build the stoichiometric matrix and default bounds array:__ In the code block below, we build the stoichiometric matrix and default bounds array from reaction list using the [the `build_stoichiometric_matrix(...)` method](src/Stoichiometric.jl) and the [the `build_default_bounds_array(...)` method](src/Stoichiometric.jl). These methods take the reactions as input and return the stoichiometric matrix and default bounds array, respectively.\n",
    "* _What is getting returned from this block?_ The variables that returned from this block are the stoichiometric matrix `S::Array{Float64,2}`, the default bounds array `boundsarray::Array{Float64,2}`, the reactions `reactions::Vector{String}`, the list of species `species::Vector{String}`, and the reaction dictionary `rd::Dict{String, Int64}`."
   ]
  },
  {
   "cell_type": "code",
   "execution_count": 6,
   "id": "4cb56766",
   "metadata": {},
   "outputs": [],
   "source": [
    "S, species, reactions, rd, boundsarray = let\n",
    "\n",
    "    # initialize -\n",
    "    path_to_reaction_file = joinpath(_PATH_TO_DATA, \"deGFP.reactions\"); # path to the reaction file\n",
    "    reactions = read_reaction_file(path_to_reaction_file); # read the reactions from the file\n",
    "    \n",
    "    # Compute the stoichiometric matrix -\n",
    "    (S, species_array, reaction_array, reaction_dictionary) = build_stoichiometric_matrix(reactions); # compute the stoichiometric matrix\n",
    "   \n",
    "    # compute the bounds -\n",
    "    bounds = build_default_bounds_array(reactions); # this is the default bounds array\n",
    "\n",
    "    # return -\n",
    "    S, species_array, reactions, reaction_dictionary, bounds\n",
    "end;"
   ]
  },
  {
   "cell_type": "markdown",
   "id": "eb0ce3d5",
   "metadata": {},
   "source": [
    "__Problem model__: To store all the problem data, we create an instance of [the `MyPrimalFluxBalanceAnalysisCalculationModel` type](src/Types.jl) and store it in the `model::MyPrimalFluxBalanceAnalysisCalculationModel` variable. We also return a bunch of stuff related to the indexing of the reactions (used to make tables, looking up the reaction index given the name, etc.).\n",
    "* _Builder (or factory) pattern_: For all custom types that we make, we'll use something like [the builder software pattern](https://en.wikipedia.org/wiki/Builder_pattern) to construct and initialize these objects. The calling syntax will be the same for all types: [a `build(...)` method](src/Factory.jl) will take the kind of thing we want to build in the first argument, and the data needed to make that type as [a `NamedTuple` instance](https://docs.julialang.org/en/v1/base/base/#Core.NamedTuple) in the second argument.\n",
    "* _What's the story with the `let` block_? A [let block](https://docs.julialang.org/en/v1/manual/variables-and-scoping/#Let-Blocks) creates a new hard scope and new variable bindings each time it runs. Thus, they act like a private scratch space, where data comes in (is captured by the block), but only what we want to be exposed comes out."
   ]
  },
  {
   "cell_type": "code",
   "execution_count": 7,
   "id": "f352c749",
   "metadata": {},
   "outputs": [],
   "source": [
    "model, reactionnamesmap, inversereactionsnamemap, rnamesarray = let\n",
    "\n",
    "    # build the FBA model -\n",
    "    model = build(MyPrimalFluxBalanceAnalysisCalculationModel, (\n",
    "        S = S, # stoichiometric matrix\n",
    "        fluxbounds = boundsarray, # these are the *default* bounds; we'll need to update with new info if we have it\n",
    "        species = species, # list of species. The rows of S are in this order\n",
    "        reactions = reactions, # list of reactions. The cols of S are in this order\n",
    "        objective = length(reactions) |> R -> zeros(R), # this is empty, we'll need to set this\n",
    "    ));\n",
    "\n",
    "    # build a reaction names = reaction index map\n",
    "    reactionnamesmap = Dict{String,Int64}()\n",
    "    inversereactionsnamemap = Dict{Int64,String}();\n",
    "    for i ∈ eachindex(reactions)\n",
    "        reactionstring = reactions[i]; # get the reaction string\n",
    "        components = split(reactionstring, \",\"); # split the reaction string into components around ,\n",
    "        rname = components[1]; # get the reaction name\n",
    "        reactionnamesmap[rname] = i;\n",
    "        inversereactionsnamemap[i] = rname; # add the reaction name to the inverse map\n",
    "    end\n",
    "\n",
    "    # build the reaction names array -\n",
    "    rnamesarray = Vector{String}(undef, length(reactions)); # initialize the reaction names array\n",
    "    for i ∈ eachindex(reactions)\n",
    "        reactionstring = reactions[i]; # get the reaction string\n",
    "        components = split(reactionstring, \",\"); # split the reaction string into components around ,\n",
    "        rname = components[1] |> String; # get the reaction name\n",
    "        rnamesarray[i] = rname; # add the reaction name to the array\n",
    "    end\n",
    "\n",
    "    # return -\n",
    "    model, reactionnamesmap, inversereactionsnamemap, rnamesarray\n",
    "end;"
   ]
  },
  {
   "cell_type": "markdown",
   "id": "2e6a53bb",
   "metadata": {},
   "source": [
    "## Task 2: Update the Bounds Array\n",
    "In this task, we update the default bounds array to reflect the bounds for the cell-free system. In particular, we know that there are pathologies when using flux balance analysis to model gene expression, e.g., translation occurs without transcription, and transcription occurs maximally without inducer $I$, etc. We fix these problems by setting the bounds for the reactions in the cell-free system.\n",
    "\n",
    "There is a trick with the bounds (that incorporates many things we explored in class) that we can use to fix the gene expression problem:\n",
    "* [Vilkhovoy M, Horvath N, Shih CH, Wayman JA, Calhoun K, Swartz J, Varner JD. Sequence-Specific Modeling of E. coli Cell-Free Protein Synthesis. ACS Synth Biol. 2018 Aug 17;7(8):1844-1857. doi: 10.1021/acssynbio.7b00465. Epub 2018 Jul 16. PMID: 29944340.](https://www.biorxiv.org/content/10.1101/139774v2)\n",
    "* __Fix__: We (equality) bound the transcription rate $\\hat{v}_{i}$ as $\\hat{r}_{X, i}u_{i} = \\hat{v}_{i} = \\hat{r}_{X, i}u_{i}$, while a translation rate is bounded from above by the modified kinetic limit: $0\\leq\\hat{v}_{j}\\leq\\hat{r}_{L,j}w_{j}$. This is interesting because the kinetic limits are (semi)mechanistic descriptions of the transcription and translation rate. At the same time, the control variables contain Boltzmann-type descriptions of the logical control of these processes. Thus, we have a mechanistic and logical description of the transcription and translation rates.\n",
    "\n",
    "Let's implement this for our gene expression model. First, compute the kinetic limit of transcription for your gene of interest [using the `compute_transcription_rate(...)` method](src/Utility.jl). This method takes the `parameters::Dict{Symbol, Any}` dictionary as input, and returns the _kinetic limit_ of transcription, which we store in the  `rX::Float64` variable. "
   ]
  },
  {
   "cell_type": "code",
   "execution_count": 8,
   "id": "7969f081",
   "metadata": {},
   "outputs": [],
   "source": [
    "rX = compute_transcription_rate(parameters); # transcription kinetic limit"
   ]
  },
  {
   "cell_type": "code",
   "execution_count": 9,
   "id": "1e79db92",
   "metadata": {},
   "outputs": [
    {
     "name": "stdout",
     "output_type": "stream",
     "text": [
      "Maximim transcription rate (mu/mol-hr): 0.20993100642270118\n"
     ]
    }
   ],
   "source": [
    "println(\"Maximim transcription rate (mu/mol-hr): \", rX); # print the transcription rate"
   ]
  },
  {
   "cell_type": "markdown",
   "id": "51b6b48b",
   "metadata": {},
   "source": [
    "Next, compute the transcriptional and translational control terms that govern how inducer $I$ drives gene expression. These control terms attenuate the kinetic limit expressions. For simplicity, let's assume the translation control term is unity $w = 1$ and focus on a Boltzmann-type description of the transcriptional control term $u$. \n",
    "\n",
    "For our proof-of-concept promoter, we assume three states:\n",
    "* __State 0: Bare gene__: This state is just the gene without anything bound to it. This state will __not__ lead to transcription. This will be our ground state. The pseudo energy for this state $\\epsilon_{0} \\equiv 0$ J/mol.\n",
    "* __State 1: RNAP only__: Only RNAP is bound to the promoter without an inducer bound. This state __will__ lead to (background) transcription at a low level. The pseudo energy for this state $\\epsilon_{1} \\approx 3474$ J/mol.\n",
    "* __State 2: RNAP + I__: In this state both RNAP and inducer $I$ are bound to the promoter. This state __will__ lead to transcription. The pseudo energy for this state $\\epsilon_{2} \\approx -14,707$ J/mol.\n",
    "\n",
    "In the code block below, we compute $u_{1}$ (the control variable for state 1, background expression), $u_{2}$ (the control variable for state 2, induced expression), and translation control parameter $w$. For a reference on this topic, see the Supplemental materials of [Moon et al.](https://pubmed.ncbi.nlm.nih.gov/23041931/) and/or our lecture `L6c` materials."
   ]
  },
  {
   "cell_type": "code",
   "execution_count": 10,
   "id": "5231b40e",
   "metadata": {},
   "outputs": [],
   "source": [
    "u₁, u₂, w = let \n",
    "    \n",
    "    # initialize -\n",
    "    w = 1.0;\n",
    "    u₁ = 0.0; # this is udagger (background)\n",
    "    u₂ = 0.0; # this is u (induced)\n",
    "    ϵₒ = 0.0; # pseudo-energy for the background (gene only) state 0\n",
    "    ϵ₁ = 3474.0; # pseudo-energy for state 1 (gene + RNAP) - units: J/mol\n",
    "    ϵ₂ = -14707.0; # pseudo-energy for state 2 (gene + RNAP + P_PhoB) - units: J/mol\n",
    "\n",
    "    # we'll model the f₂ function as the fraction of PhoB binding. Others are at defaults\n",
    "    fₒ = 1.0; # default value\n",
    "    f₁ = 1.0; # default value\n",
    "    f₂ = INDUCER/(INDUCER + KIX); # hmmm. This is sort of interesting ...\n",
    "\n",
    "    # compute the weights of each state\n",
    "    Wₒ = fₒ*exp(-β*ϵₒ); # TODO: Update the weight term for state 0\n",
    "    W₁ = f₁*exp(-β*ϵ₁); # TODO: Update the weight term for state 1\n",
    "    W₂ = f₂*exp(-β*ϵ₂); # TODO: Update the weight term for state 2\n",
    "    Z = Wₒ + W₁ + W₂; # partition function\n",
    "\n",
    "    # Boltzmann promoter logic here -\n",
    "    u₁ = W₁/Z; # TODO: Update u₁ (this is u dagger in the notes)\n",
    "    u₂ = W₂/Z; # TODO: Update u₂ (this is u)\n",
    "    \n",
    "    # return -\n",
    "    u₁,u₂,w\n",
    "end;"
   ]
  },
  {
   "cell_type": "code",
   "execution_count": 11,
   "id": "f422f9f6",
   "metadata": {},
   "outputs": [
    {
     "name": "stdout",
     "output_type": "stream",
     "text": [
      "u₁ (background expression factor): 0.06146297872016685 and u₂ (induced expression) 0.7020993915068997\n"
     ]
    }
   ],
   "source": [
    "println(\"u₁ (background expression factor): $(u₁) and u₂ (induced expression) $(u₂)\"); # print the u₁ and u₂ value"
   ]
  },
  {
   "cell_type": "markdown",
   "id": "3dddfc5b",
   "metadata": {},
   "source": [
    "Finally, let's compute the kinetic limit of translation. This one is tricky because it requires an estimate of the _concentration_ of the mRNA for the gene of interest (flux balance analysis doesn't have concentrations, only flux). Let's approximate the mRNA level by the steady-state level (written for transcript $j$):\n",
    "$$\n",
    "\\begin{align*}\n",
    " m^{\\star}_{j} & = \\frac{r_{X,j}u_{j}\\left(\\dots\\right) + \\lambda_{j}}{\\theta_{m,j}+\\mu}\\quad\\text{for }j=1,2,\\dots,N\n",
    "\\end{align*}\n",
    "$$\n",
    "where $\\lambda_{j} \\equiv r_{X,j}u^{\\dagger}_{j}$. See lecture `L5b` for a description of the kinetic limit of translation expression (or the reference we gave above). We save the kinetic limit of translation in the `rL::Float64` variable, and the steady-state mRNA level in the `m̄::Float64` variable."
   ]
  },
  {
   "cell_type": "code",
   "execution_count": 12,
   "id": "f7b00dd9",
   "metadata": {},
   "outputs": [],
   "source": [
    "rL, m̄ = let\n",
    "\n",
    "    # get constants from parameters -\n",
    "    θ = parameters[:kdX]; # first order degradation constant mRNA (units: 1/hr)\n",
    "    KL = parameters[:KL]; # saturation constant translation (units: μmol/gDW-hr)\n",
    "    VMAXL = parameters[:VL]; # VMAX translation (correct PhoA length) (units: μmol/gDW-hr)\n",
    "    τ = parameters[:L_tau_factor]; # relative time constant translation (units: dimensionless)\n",
    "    \n",
    "    # compute -\n",
    "    m = (rX*u₁ + rX*u₂)/(θ + μ); # TODO: approx mRNA level with steady-state\n",
    "    rL = VMAXL*(m/(τ*KL+(1+τ)*m)); # compute the kinetic limit of translation\n",
    "\n",
    "    # return -\n",
    "    rL, m\n",
    "end;"
   ]
  },
  {
   "cell_type": "code",
   "execution_count": 13,
   "id": "0b0a19be",
   "metadata": {},
   "outputs": [
    {
     "name": "stdout",
     "output_type": "stream",
     "text": [
      "Maximim translation rate (mu/mol-hr): 0.0902214998897148\n"
     ]
    }
   ],
   "source": [
    "println(\"Maximim translation rate (mu/mol-hr): \", rL); # print the translation rate"
   ]
  },
  {
   "cell_type": "markdown",
   "id": "19a7f807",
   "metadata": {},
   "source": [
    "### Update the bounds\n",
    "Now that we have an estimate of the transcription $\\hat{r}_{X}u$ and the translation $\\hat{r}_{L}w$ rates, we can update the flux balance analysis problem bounds. `Unhide` the code block below to see how we set the bounds. \n",
    "* _What is going on here?_ We are setting the bounds for the transcription and translation reactions to equal the kinetic limits modified by the control variables. We are also setting the bounds for specific exchange reactions, e.g., the exchange of charged tRNA to equal zero (we are forcing the system to run the tRNA reactions). Finally, we are setting the upper bound of the mRNA degradation rate to be equal to $\\sim\\theta\\cdot{\\bar{m}}$, where $\\theta$ is the degradation rate and $\\bar{m}$ is the mRNA level, i.e., we assume degradation follows first-order kinetics.\n",
    "\n",
    "We save the updated bounds in the `fluxbounds::Array{Float64,2}` variable."
   ]
  },
  {
   "cell_type": "code",
   "execution_count": 14,
   "id": "4708021f",
   "metadata": {},
   "outputs": [],
   "source": [
    "fluxbounds = let\n",
    "\n",
    "    # make a copy of the default flux bounds -\n",
    "    flux_bounds = copy(model.fluxbounds);\n",
    "\n",
    "    # what is the the bound on transcription?\n",
    "    XB = rX*(u₁ + u₂); # this is the lower bound on transcription\n",
    "\n",
    "    # update the bounds for gene exprssion -\n",
    "    flux_bounds[reactionnamesmap[\"transcription_test\"], 1] = XB; # transcrption lower bound state 1\n",
    "    flux_bounds[reactionnamesmap[\"transcription_test\"], 2] = XB; # transcrption upper bound state 1\n",
    "    flux_bounds[reactionnamesmap[\"translation_initiation_test\"], 1] = rL*w; # translation lower bound\n",
    "    flux_bounds[reactionnamesmap[\"translation_initiation_test\"], 2] = rL*w; # translation upper bound\n",
    "    flux_bounds[reactionnamesmap[\"translation_test\"], 1] = 0.0; # translation lower bound\n",
    "    flux_bounds[reactionnamesmap[\"translation_test\"], 2] = rL*w; # translation upper bound\n",
    "\n",
    "    # update bounds on tRNA - no exchange of charged tRNA\n",
    "    tRNA_exchange_reactions = findall(x-> (contains(x, \"exchange\") && contains(x,\"tRNA\") && contains(x, \"_M_\")), rnamesarray); # find the index of the reaction\n",
    "    for i ∈ eachindex(tRNA_exchange_reactions)\n",
    "        flux_bounds[tRNA_exchange_reactions[i], 1] = 0.0; # no charged tRNA from box\n",
    "        flux_bounds[tRNA_exchange_reactions[i], 2] = 0.0; # no charged tRNA into box\n",
    "    end\n",
    "\n",
    "    # bound mRNA degradation -\n",
    "    θ = parameters[:kdX]; # first order degradation constant mRNA (units: 1/hr)\n",
    "    flux_bounds[reactionnamesmap[\"mRNA_degradation_test\"], 1] = 0.0 # lower bound on mRNA degradation\n",
    "    flux_bounds[reactionnamesmap[\"mRNA_degradation_test\"], 2] = θ*m̄; # upper bound on mRNA degradation\n",
    "\n",
    "    # no mRNA exchange -\n",
    "    flux_bounds[reactionnamesmap[\"exchange_mRNA_test\"], 1] = 0.0; # lower bound on mRNA exchange\n",
    "    flux_bounds[reactionnamesmap[\"exchange_mRNA_test\"], 2] = 0.0; # upper bound on mRNA exchange\n",
    "\n",
    "    # ATP exchange -\n",
    "    # exchange_M_atp_c,[],M_atp_c,true\n",
    "    # TODO: DQ2: update the bounds on ATP exchange to simulate resource limitation\n",
    "    flux_bounds[reactionnamesmap[\"exchange_M_atp_c\"], 1] = -1000.0; # lower bound on ATP exchange\n",
    "    flux_bounds[reactionnamesmap[\"exchange_M_atp_c\"], 2] = 1000.0; # upper bound on ATP exchange\n",
    "\n",
    "    # TODO: DQ3: update the bounds on ala exchange to simulate resource limitation\n",
    "    # exchange_M_ala_L_c,[],M_ala_L_c,true\n",
    "    flux_bounds[reactionnamesmap[\"exchange_M_ala_L_c\"], 1] = -1000.0; # lower bound on ala exchange\n",
    "    flux_bounds[reactionnamesmap[\"exchange_M_ala_L_c\"], 2] = 1000.0; # upper bound on ala exchange\n",
    "\n",
    "    # return new bounds\n",
    "    flux_bounds;\n",
    "end;"
   ]
  },
  {
   "cell_type": "code",
   "execution_count": 15,
   "id": "af9e8112",
   "metadata": {},
   "outputs": [],
   "source": [
    "model.fluxbounds = fluxbounds; # update the flux bounds in the model"
   ]
  },
  {
   "cell_type": "markdown",
   "id": "ca645c55",
   "metadata": {},
   "source": [
    "## Task 3: Estimate the Protein Production Rate\n",
    "In this task, we will estimate the transcription and translation rate for our protein of interest in a cell-free system as a function of system parameters, such as inducer concentration. Let's begin by updating the objective function. In [a previous study](https://www.biorxiv.org/content/10.1101/139774v1.full.pdf), we found that a good objective for this type of problem is to maximize the protein translation rate. We do that here:"
   ]
  },
  {
   "cell_type": "code",
   "execution_count": 16,
   "id": "02c3ea17",
   "metadata": {},
   "outputs": [],
   "source": [
    "objective_coefficients = let\n",
    "\n",
    "    # initialize -\n",
    "    nreactions = length(model.reactions); # how many reactions do we have?\n",
    "    objective_coefficients = zeros(nreactions); # initialize the objective coefficients\n",
    "\n",
    "    # which reactions do we want to maximize?\n",
    "    reactions_to_maximize = [\"translation_test\"]; # TODO: Add reactions that we want to max, lets max translation_test\n",
    "    for i ∈ eachindex(reactions_to_maximize)\n",
    "        reaction = reactions_to_maximize[i];\n",
    "        j = reactionnamesmap[reaction];\n",
    "        objective_coefficients[j] = 1;\n",
    "    end\n",
    "\n",
    "    # return -\n",
    "    objective_coefficients;\n",
    "end;"
   ]
  },
  {
   "cell_type": "code",
   "execution_count": 17,
   "id": "aeb39438",
   "metadata": {},
   "outputs": [],
   "source": [
    "model.objective = objective_coefficients; # update the objectivec coefficients"
   ]
  },
  {
   "cell_type": "markdown",
   "id": "bd609365",
   "metadata": {},
   "source": [
    "### Compute the optimal flux distribution \n",
    "We have updated the bounds array to reflect the bounds for the cell-free system and set the objective function to be the rate of protein translation. Now, we can compute the optimal flux distribution.\n",
    "\n",
    "Let's compute the optimal metabolic distribution $\\left\\{\\hat{v}_{i} \\mid i = 1,2,\\dots,\\mathcal{R}\\right\\}$ by solving the [linear programming problem using the `GLPK.jl` package](https://github.com/jump-dev/GLPK.jl). We solve the optimization problem by passing the `model::MyPrimalFluxBalanceAnalysisCalculationModel` to [the `solve(...)` method](src/Compute.jl). This method returns a `solution::Dict{String, Any}` dictionary, which holds information about the solution.\n",
    "* __Why the [try-catch environment](https://docs.julialang.org/en/v1/base/base/#try)__? The [solve(...) method](src/Compute.jl) has an [@assert statement](https://docs.julialang.org/en/v1/base/base/#Base.@assert) to check if the calculation has converged. Thus, the solve method can [throw](https://docs.julialang.org/en/v1/base/base/#Core.throw) an [AssertionError](https://docs.julialang.org/en/v1/base/base/#Core.AssertionError) if the optimization problem fails to converge. To gracefully handle this case, we use a [try-catch construct](https://docs.julialang.org/en/v1/base/base/#try). See the [is_solved_and_feasible method from the JuMP package](https://jump.dev/JuMP.jl/stable/api/JuMP/#JuMP.is_solved_and_feasible) for more information."
   ]
  },
  {
   "cell_type": "code",
   "execution_count": 18,
   "id": "5ec0985a",
   "metadata": {},
   "outputs": [],
   "source": [
    "solution = let\n",
    "    \n",
    "    solution = nothing; # initialize nothing for the solution\n",
    "    try\n",
    "        solution = solve(model); # call the solve method with our problem model -\n",
    "    catch error\n",
    "        println(\"error: $(error)\"); # Oooooops! Looks like we have a *major malfunction*, problem didn't solve\n",
    "    end\n",
    "\n",
    "    # return solution\n",
    "    solution\n",
    "end;"
   ]
  },
  {
   "cell_type": "markdown",
   "id": "82ad289e",
   "metadata": {},
   "source": [
    "### Flux table\n",
    "\n",
    "If the optimization problem converged, we should have the optimal flux values throughout the system. Let's use [the `pretty_tables(...)` method exported by the `PrettyTables.jl` package](https://github.com/ronisbr/PrettyTables.jl) to display the estimated optimal metabolic fluxes. `Unhide` the code block below to see how we constructed the flux table."
   ]
  },
  {
   "cell_type": "code",
   "execution_count": 19,
   "id": "85898f38",
   "metadata": {},
   "outputs": [
    {
     "name": "stdout",
     "output_type": "stream",
     "text": [
      "=============================== ============= ============= ============== =====================================================================================================================================================================================================================================================================================================================================================================================================================================================================================================================\n",
      " \u001b[1m Reaction                     \u001b[0m \u001b[1m v̂ᵢ          \u001b[0m \u001b[1m v̂ᵢ LB       \u001b[0m \u001b[1m v̂ᵢ UB        \u001b[0m \u001b[1m Reaction                                                                                                                                                                                                                                                                                                                                                                                                                                                                                                           \u001b[0m\n",
      " \u001b[90m                              \u001b[0m \u001b[90m μmol/L-time \u001b[0m \u001b[90m μmol/L-time \u001b[0m \u001b[90m μmmol/L-time \u001b[0m \u001b[90m N/A                                                                                                                                                                                                                                                                                                                                                                                                                                                                                                                \u001b[0m\n",
      "=============================== ============= ============= ============== =====================================================================================================================================================================================================================================================================================================================================================================================================================================================================================================================\n",
      "  transcription_test             0.160295      0.160295      0.160295       RNAP_OPEN_gene_test+183*M_gtp_c+231*M_ctp_c+101*M_utp_c+163*M_atp_c+678*M_h2o_c = mRNA_test+gene_test+RNAP+678*M_ppi_c\n",
      "  mRNA_degradation_test          0.160295      0.0           0.160295       mRNA_test = 183*M_gmp_c+231*M_cmp_c+101*M_ump_c+163*M_amp_c\n",
      "  translation_initiation_test    0.0902215     0.0902215     0.0902215      mRNA_test+RIBOSOME = RIBOSOME_START_test\n",
      "  translation_test               0.0902215     0.0           0.0902215      RIBOSOME_START_test+450*M_gtp_c+450*M_h2o_c+8.0*M_ala_L_c_tRNA+6.0*M_arg_L_c_tRNA+13.0*M_asn_L_c_tRNA+17.0*M_asp_L_c_tRNA+2.0*M_cys_L_c_tRNA+14.0*M_glu_L_c_tRNA+8.0*M_gln_L_c_tRNA+20.0*M_gly_L_c_tRNA+9.0*M_his_L_c_tRNA+12.0*M_ile_L_c_tRNA+19.0*M_leu_L_c_tRNA+18.0*M_lys_L_c_tRNA+5.0*M_met_L_c_tRNA+12.0*M_phe_L_c_tRNA+10.0*M_pro_L_c_tRNA+9.0*M_ser_L_c_tRNA+15.0*M_thr_L_c_tRNA+1.0*M_trp_L_c_tRNA+10.0*M_tyr_L_c_tRNA+17.0*M_val_L_c_tRNA = RIBOSOME+mRNA_test+prot_test+450*M_gdp_c+450*M_pi_c+225*tRNA\n",
      "  tRNA_charging_M_ala_L_c_test   0.0902215     0.0           1000.0         8.0*M_ala_L_c+8.0*M_atp_c+8.0*tRNA+8.0*M_h2o_c = 8.0*M_ala_L_c_tRNA+8.0*M_amp_c+8.0*M_ppi_c\n",
      "  tRNA_charging_M_arg_L_c_test   0.0902215     0.0           1000.0         6.0*M_arg_L_c+6.0*M_atp_c+6.0*tRNA+6.0*M_h2o_c = 6.0*M_arg_L_c_tRNA+6.0*M_amp_c+6.0*M_ppi_c\n",
      "  tRNA_charging_M_asn_L_c_test   0.0902215     0.0           1000.0         13.0*M_asn_L_c+13.0*M_atp_c+13.0*tRNA+13.0*M_h2o_c = 13.0*M_asn_L_c_tRNA+13.0*M_amp_c+13.0*M_ppi_c\n",
      "  tRNA_charging_M_asp_L_c_test   0.0902215     0.0           1000.0         17.0*M_asp_L_c+17.0*M_atp_c+17.0*tRNA+17.0*M_h2o_c = 17.0*M_asp_L_c_tRNA+17.0*M_amp_c+17.0*M_ppi_c\n",
      "  tRNA_charging_M_cys_L_c_test   0.0902215     0.0           1000.0         2.0*M_cys_L_c+2.0*M_atp_c+2.0*tRNA+2.0*M_h2o_c = 2.0*M_cys_L_c_tRNA+2.0*M_amp_c+2.0*M_ppi_c\n",
      "  tRNA_charging_M_glu_L_c_test   0.0902215     0.0           1000.0         14.0*M_glu_L_c+14.0*M_atp_c+14.0*tRNA+14.0*M_h2o_c = 14.0*M_glu_L_c_tRNA+14.0*M_amp_c+14.0*M_ppi_c\n",
      "  tRNA_charging_M_gln_L_c_test   0.0902215     0.0           1000.0         8.0*M_gln_L_c+8.0*M_atp_c+8.0*tRNA+8.0*M_h2o_c = 8.0*M_gln_L_c_tRNA+8.0*M_amp_c+8.0*M_ppi_c\n",
      "  tRNA_charging_M_gly_L_c_test   0.0902215     0.0           1000.0         20.0*M_gly_L_c+20.0*M_atp_c+20.0*tRNA+20.0*M_h2o_c = 20.0*M_gly_L_c_tRNA+20.0*M_amp_c+20.0*M_ppi_c\n",
      "  tRNA_charging_M_his_L_c_test   0.0902215     0.0           1000.0         9.0*M_his_L_c+9.0*M_atp_c+9.0*tRNA+9.0*M_h2o_c = 9.0*M_his_L_c_tRNA+9.0*M_amp_c+9.0*M_ppi_c\n",
      "  tRNA_charging_M_ile_L_c_test   0.0902215     0.0           1000.0         12.0*M_ile_L_c+12.0*M_atp_c+12.0*tRNA+12.0*M_h2o_c = 12.0*M_ile_L_c_tRNA+12.0*M_amp_c+12.0*M_ppi_c\n",
      "  tRNA_charging_M_leu_L_c_test   0.0902215     0.0           1000.0         19.0*M_leu_L_c+19.0*M_atp_c+19.0*tRNA+19.0*M_h2o_c = 19.0*M_leu_L_c_tRNA+19.0*M_amp_c+19.0*M_ppi_c\n",
      "  tRNA_charging_M_lys_L_c_test   0.0902215     0.0           1000.0         18.0*M_lys_L_c+18.0*M_atp_c+18.0*tRNA+18.0*M_h2o_c = 18.0*M_lys_L_c_tRNA+18.0*M_amp_c+18.0*M_ppi_c\n",
      "  tRNA_charging_M_met_L_c_test   0.0902215     0.0           1000.0         5.0*M_met_L_c+5.0*M_atp_c+5.0*tRNA+5.0*M_h2o_c = 5.0*M_met_L_c_tRNA+5.0*M_amp_c+5.0*M_ppi_c\n",
      "  tRNA_charging_M_phe_L_c_test   0.0902215     0.0           1000.0         12.0*M_phe_L_c+12.0*M_atp_c+12.0*tRNA+12.0*M_h2o_c = 12.0*M_phe_L_c_tRNA+12.0*M_amp_c+12.0*M_ppi_c\n",
      "  tRNA_charging_M_pro_L_c_test   0.0902215     0.0           1000.0         10.0*M_pro_L_c+10.0*M_atp_c+10.0*tRNA+10.0*M_h2o_c = 10.0*M_pro_L_c_tRNA+10.0*M_amp_c+10.0*M_ppi_c\n",
      "  tRNA_charging_M_ser_L_c_test   0.0902215     0.0           1000.0         9.0*M_ser_L_c+9.0*M_atp_c+9.0*tRNA+9.0*M_h2o_c = 9.0*M_ser_L_c_tRNA+9.0*M_amp_c+9.0*M_ppi_c\n",
      "  tRNA_charging_M_thr_L_c_test   0.0902215     0.0           1000.0         15.0*M_thr_L_c+15.0*M_atp_c+15.0*tRNA+15.0*M_h2o_c = 15.0*M_thr_L_c_tRNA+15.0*M_amp_c+15.0*M_ppi_c\n",
      "  tRNA_charging_M_trp_L_c_test   0.0902215     0.0           1000.0         1.0*M_trp_L_c+1.0*M_atp_c+1.0*tRNA+1.0*M_h2o_c = 1.0*M_trp_L_c_tRNA+1.0*M_amp_c+1.0*M_ppi_c\n",
      "  tRNA_charging_M_tyr_L_c_test   0.0902215     0.0           1000.0         10.0*M_tyr_L_c+10.0*M_atp_c+10.0*tRNA+10.0*M_h2o_c = 10.0*M_tyr_L_c_tRNA+10.0*M_amp_c+10.0*M_ppi_c\n",
      "  tRNA_charging_M_val_L_c_test   0.0902215     0.0           1000.0         17.0*M_val_L_c+17.0*M_atp_c+17.0*tRNA+17.0*M_h2o_c = 17.0*M_val_L_c_tRNA+17.0*M_amp_c+17.0*M_ppi_c\n",
      "  exchange_M_ala_L_c             0.721772      -1000.0       1000.0         [] = M_ala_L_c\n",
      "  exchange_M_amp_c               -46.428       -1000.0       1000.0         [] = M_amp_c\n",
      "  exchange_M_arg_L_c             0.541329      -1000.0       1000.0         [] = M_arg_L_c\n",
      "  exchange_M_asn_L_c             1.17288       -1000.0       1000.0         [] = M_asn_L_c\n",
      "  exchange_M_asp_L_c             1.53377       -1000.0       1000.0         [] = M_asp_L_c\n",
      "  exchange_M_atp_c               46.428        -1000.0       1000.0         [] = M_atp_c\n",
      "  exchange_M_cmp_c               -37.0282      -1000.0       1000.0         [] = M_cmp_c\n",
      "  exchange_M_ctp_c               37.0282       -1000.0       1000.0         [] = M_ctp_c\n",
      "  exchange_M_cys_L_c             0.180443      -1000.0       1000.0         [] = M_cys_L_c\n",
      "  exchange_M_gdp_c               -40.5997      -1000.0       1000.0         [] = M_gdp_c\n",
      "  exchange_M_gln_L_c             0.721772      -1000.0       1000.0         [] = M_gln_L_c\n",
      "  exchange_M_glu_L_c             1.2631        -1000.0       1000.0         [] = M_glu_L_c\n",
      "  exchange_M_gly_L_c             1.80443       -1000.0       1000.0         [] = M_gly_L_c\n",
      "  exchange_M_gmp_c               -29.3341      -1000.0       1000.0         [] = M_gmp_c\n",
      "  exchange_M_gtp_c               69.9337       -1000.0       1000.0         [] = M_gtp_c\n",
      "  exchange_M_h2o_c               169.58        -1000.0       1000.0         [] = M_h2o_c\n",
      "  exchange_M_his_L_c             0.811993      -1000.0       1000.0         [] = M_his_L_c\n",
      "  exchange_M_ile_L_c             1.08266       -1000.0       1000.0         [] = M_ile_L_c\n",
      "  exchange_M_leu_L_c             1.71421       -1000.0       1000.0         [] = M_leu_L_c\n",
      "  exchange_M_lys_L_c             1.62399       -1000.0       1000.0         [] = M_lys_L_c\n",
      "  exchange_M_met_L_c             0.451107      -1000.0       1000.0         [] = M_met_L_c\n",
      "  exchange_M_phe_L_c             1.08266       -1000.0       1000.0         [] = M_phe_L_c\n",
      "  exchange_M_pi_c                -40.5997      -1000.0       1000.0         [] = M_pi_c\n",
      "  exchange_M_ppi_c               -128.98       -1000.0       1000.0         [] = M_ppi_c\n",
      "  exchange_M_pro_L_c             0.902215      -1000.0       1000.0         [] = M_pro_L_c\n",
      "  exchange_M_ser_L_c             0.811993      -1000.0       1000.0         [] = M_ser_L_c\n",
      "  exchange_M_thr_L_c             1.35332       -1000.0       1000.0         [] = M_thr_L_c\n",
      "  exchange_M_trp_L_c             0.0902215     -1000.0       1000.0         [] = M_trp_L_c\n",
      "  exchange_M_tyr_L_c             0.902215      -1000.0       1000.0         [] = M_tyr_L_c\n",
      "  exchange_M_ump_c               -16.1898      -1000.0       1000.0         [] = M_ump_c\n",
      "  exchange_M_utp_c               16.1898       -1000.0       1000.0         [] = M_utp_c\n",
      "  exchange_M_val_L_c             1.53377       -1000.0       1000.0         [] = M_val_L_c\n",
      "  exchange_RNAP                  -0.160295     -1000.0       1000.0         [] = RNAP\n",
      "  exchange_RNAP_OPEN_gene_test   0.160295      -1000.0       1000.0         [] = RNAP_OPEN_gene_test\n",
      "  exchange_gene_test             -0.160295     -1000.0       1000.0         [] = gene_test\n",
      "  exchange_prot_test             -0.0902215    -1000.0       1000.0         [] = prot_test\n",
      "=============================== ============= ============= ============== =====================================================================================================================================================================================================================================================================================================================================================================================================================================================================================================================\n"
     ]
    }
   ],
   "source": [
    "let\n",
    "\n",
    "    # setup -\n",
    "    S = model.S;\n",
    "    flux_bounds_array = model.fluxbounds;\n",
    "    number_of_reactions = size(S,2); # columns\n",
    "    flux = solution[\"argmax\"];\n",
    "\n",
    "\t# nonzero fluxes -\n",
    "\tnonzero_fluxes = findall(v-> abs(v) ≥ 1e-6, flux); # find the non-zero fluxes\n",
    "\tnumber_of_nonzero_fluxes = length(nonzero_fluxes); # how many non-zero fluxes do we have?\n",
    "    \n",
    "    # populate the state table -\n",
    "\tflux_table = Array{Any,2}(undef,number_of_nonzero_fluxes,5)\n",
    "\tfor reaction_index ∈ eachindex(nonzero_fluxes)\n",
    "\t\ti = nonzero_fluxes[reaction_index]; # get the index of the reaction\n",
    "\t\tflux_table[reaction_index,1] = inversereactionsnamemap[i]\n",
    "\t\tflux_table[reaction_index,2] = flux[i]\n",
    "\t\tflux_table[reaction_index,3] = flux_bounds_array[i,1]\n",
    "\t\tflux_table[reaction_index,4] = flux_bounds_array[i,2]\n",
    "        flux_table[reaction_index,5] = inversereactionsnamemap[i] |> key-> rd[key]\n",
    "\tend\n",
    "\n",
    "    # header row -\n",
    "\tflux_table_header_row = ([\"Reaction\",\"v̂ᵢ\", \"v̂ᵢ LB\", \"v̂ᵢ UB\", \"Reaction\"],[\"\",\"μmol/L-time\", \"μmol/L-time\", \"μmmol/L-time\", \"N/A\"]);\n",
    "\t\t\n",
    "\t# write the table -\n",
    "\tpretty_table(flux_table; header=flux_table_header_row, tf=tf_simple, alignment = :l)\n",
    "end"
   ]
  },
  {
   "cell_type": "code",
   "execution_count": 20,
   "id": "db8a966e",
   "metadata": {},
   "outputs": [],
   "source": [
    "do_I_see_the_flux_table_flag = true; # TODO: update this flag value {true | false}. true if you see the table, false otherwise"
   ]
  },
  {
   "cell_type": "markdown",
   "id": "7ff99259",
   "metadata": {},
   "source": [
    "__Want to see a particular flux?__ Look at the names in [the deGFP.reactions file](data/deGFP.reactions) and set this to the `flux_name_I_want_to_see::String` variable. We'll look up that name and then display the flux value."
   ]
  },
  {
   "cell_type": "code",
   "execution_count": 21,
   "id": "193d59e3",
   "metadata": {},
   "outputs": [
    {
     "name": "stdout",
     "output_type": "stream",
     "text": [
      "Flux value for exchange_M_atp_c: 46.42799042145407 μmol/L-hr\n"
     ]
    }
   ],
   "source": [
    "let\n",
    "\n",
    "    # initialize -\n",
    "    flux_name_I_want_to_see = \"exchange_M_atp_c\"; # TODO: update this to the flux name you want to see\n",
    "    flux_name_I_want_to_see_index = reactionnamesmap[flux_name_I_want_to_see]; # get the index of the flux\n",
    "    v = solution[\"argmax\"][flux_name_I_want_to_see_index]; # get the flux value\n",
    "\n",
    "    # print the flux value -\n",
    "    println(\"Flux value for $(flux_name_I_want_to_see): $(v) μmol/L-hr\"); # print the flux value\n",
    "end"
   ]
  },
  {
   "cell_type": "markdown",
   "id": "c42a05aa",
   "metadata": {},
   "source": [
    "## Discussion\n",
    "* __DQ1__: One of the hallmarks of inducible gene expression is the ability to control the transcription rate by the concentration of the inducer. \n",
    "    - Increase the concentration of the inducer to $I = 1.0$ mM (from our default value of $I = 0.1$ mM). What happens to the rate of transcription (and translation)? Is the response linear? What do you think is going on here?"
   ]
  },
  {
   "cell_type": "code",
   "execution_count": 22,
   "id": "31d9b1e7",
   "metadata": {},
   "outputs": [],
   "source": [
    "## -- DQ1 answer goes here -- ##"
   ]
  },
  {
   "cell_type": "code",
   "execution_count": 23,
   "id": "8f0f3883",
   "metadata": {},
   "outputs": [],
   "source": [
    "did_I_answer_DQ1 = false; # TODO: update this flag value {true | false}. true if you answered the question, false otherwise"
   ]
  },
  {
   "cell_type": "markdown",
   "id": "e12a2e90",
   "metadata": {},
   "source": [
    "* __DQ2__: One of the interesting things about this approach is its ability to compute the implications of resource limitations. For example, if we set the ATP exchange reaction to be equal to zero, we could compute the impact of ATP limitation on the rate of transcription and translation. \n",
    "    - Update the code block in the bounds block and (re)run the notebook. What do you observe? Could you explain the results (Note: a valid result is that there is no solution)?"
   ]
  },
  {
   "cell_type": "code",
   "execution_count": 24,
   "id": "539880bd",
   "metadata": {},
   "outputs": [],
   "source": [
    "## -- DQ2 answer goes here -- ##"
   ]
  },
  {
   "cell_type": "code",
   "execution_count": 25,
   "id": "0d4a2616",
   "metadata": {},
   "outputs": [],
   "source": [
    "did_I_answer_DQ2 = false; # TODO: update this flag value {true | false}. true if you answered the question, false otherwise"
   ]
  },
  {
   "cell_type": "markdown",
   "id": "a77915ad",
   "metadata": {},
   "source": [
    "* __DQ3__: Reset the ATP exchange to the default values ($\\pm{1000}$) and instead set the alanine (or any of the other amino acids) exchange rates to zero (which simulates amino acid limitation). \n",
    "    - Update the code in the bounds block for the alanine exchange and (re)run the notebook. What do you observe? Could you explain the results (Note: a valid result is that there is no solution)?"
   ]
  },
  {
   "cell_type": "code",
   "execution_count": 26,
   "id": "8d21b6cf",
   "metadata": {},
   "outputs": [],
   "source": [
    "## -- DQ3 answer goes here -- ##"
   ]
  },
  {
   "cell_type": "code",
   "execution_count": 27,
   "id": "99c8a98e",
   "metadata": {},
   "outputs": [],
   "source": [
    "did_I_answer_DQ3 = false; # TODO: update this flag value {true | false}. true if you answered the question, false otherwise"
   ]
  },
  {
   "cell_type": "markdown",
   "id": "ad6c1fad",
   "metadata": {},
   "source": [
    "## Fun (totally optional) directions we could go with this idea in the future\n",
    "This proof-of-concept study used flux balance analysis to compute the resource requirements for gene expression in cell-free systems. There are many directions we could go with this idea in the future. Here are a few ideas:\n",
    "* __Use a more complex model of the metabolic network__: The model we used in this exercise is a simplified model of the metabolic network. We could use a more complex model that includes the reactions required to produce the amino acids and energy that the system consumes. This would allow us to compute the resource requirements for gene expression in a more realistic system. For laughs, I've included a more complex model of the [metabolic network in the `data` directory](data/Metabolism.net). This model is based on the _E. coli_ metabolic network includes the reactions required to produce the amino acids and energy from glucose.\n",
    "\n",
    "* __Incorporate more information in the bounds array__: The bounds array we used in this exercise is a simplified version of the bounds array used in flux balance analysis. We could have gotten more granular about computing the upper bounds for various reactions, e.g., the exchange reactions, the charging of tRNA, etc. Thus, we could also have included information about the kinetics of the reactions, e.g., the Michaelis-Menten kinetics for the reactions, and used enzyme kinetic data, and metabolite measurements to constrain the system further. Better bounds estimates give us better estimates of the fluxes.\n",
    "\n",
    "* __Simulate the expression of synthetic circuits in cell-free systems__: The model can be used to simulate the expression of multiple genes. For example, we could use this model to simulate the expression of a synthetic circuit that includes multiple genes and compute the resource requirements for the entire circuit. The model could be a quick and dirty way to calculate the resource requirements for a synthetic circuit, and could be used to guide the design of the circuit.\n",
    "\n",
    "If we only had more time, we could do all these things. But alas, we are out of time!"
   ]
  },
  {
   "cell_type": "markdown",
   "id": "9016490f",
   "metadata": {},
   "source": [
    "## Tests\n",
    "`Unhide` the code block below (if you are curious) about how we implemented the tests and what we are testing. In these tests, we check values in your notebook and give feedback on which items are correct, missing etc."
   ]
  },
  {
   "cell_type": "code",
   "execution_count": 28,
   "id": "c2890417",
   "metadata": {},
   "outputs": [
    {
     "name": "stdout",
     "output_type": "stream",
     "text": [
      "Discussion questions: \u001b[91m\u001b[1mTest Failed\u001b[22m\u001b[39m at \u001b[39m\u001b[1m/Users/jeffreyvarner/Desktop/julia_work/CHEME-5820-SP25/CHEME-5450-Practicum-S2025/jl_notebook_cell_df34fa98e69747e1a8f8a730347b8e2f_X66sZmlsZQ==.jl:21\u001b[22m\n",
      "  Expression: did_I_answer_DQ1 == true\n",
      "   Evaluated: false == true\n",
      "\n",
      "Stacktrace:\n",
      " [1] \u001b[0m\u001b[1mmacro expansion\u001b[22m\n",
      "\u001b[90m   @\u001b[39m \u001b[90m~/.julia/juliaup/julia-1.11.5+0.aarch64.apple.darwin14/share/julia/stdlib/v1.11/Test/src/\u001b[39m\u001b[90m\u001b[4mTest.jl:679\u001b[24m\u001b[39m\u001b[90m [inlined]\u001b[39m\n",
      " [2] \u001b[0m\u001b[1mmacro expansion\u001b[22m\n",
      "\u001b[90m   @\u001b[39m \u001b[90m~/Desktop/julia_work/CHEME-5820-SP25/CHEME-5450-Practicum-S2025/\u001b[39m\u001b[90m\u001b[4mjl_notebook_cell_df34fa98e69747e1a8f8a730347b8e2f_X66sZmlsZQ==.jl:21\u001b[24m\u001b[39m\u001b[90m [inlined]\u001b[39m\n",
      " [3] \u001b[0m\u001b[1mmacro expansion\u001b[22m\n",
      "\u001b[90m   @\u001b[39m \u001b[90m~/.julia/juliaup/julia-1.11.5+0.aarch64.apple.darwin14/share/julia/stdlib/v1.11/Test/src/\u001b[39m\u001b[90m\u001b[4mTest.jl:1704\u001b[24m\u001b[39m\u001b[90m [inlined]\u001b[39m\n",
      " [4] \u001b[0m\u001b[1mmacro expansion\u001b[22m\n",
      "\u001b[90m   @\u001b[39m \u001b[90m~/Desktop/julia_work/CHEME-5820-SP25/CHEME-5450-Practicum-S2025/\u001b[39m\u001b[90m\u001b[4mjl_notebook_cell_df34fa98e69747e1a8f8a730347b8e2f_X66sZmlsZQ==.jl:21\u001b[24m\u001b[39m\u001b[90m [inlined]\u001b[39m\n",
      " [5] \u001b[0m\u001b[1mmacro expansion\u001b[22m\n",
      "\u001b[90m   @\u001b[39m \u001b[90m~/.julia/juliaup/julia-1.11.5+0.aarch64.apple.darwin14/share/julia/stdlib/v1.11/Test/src/\u001b[39m\u001b[90m\u001b[4mTest.jl:1704\u001b[24m\u001b[39m\u001b[90m [inlined]\u001b[39m\n",
      " [6] top-level scope\n",
      "\u001b[90m   @\u001b[39m \u001b[90m~/Desktop/julia_work/CHEME-5820-SP25/CHEME-5450-Practicum-S2025/\u001b[39m\u001b[90m\u001b[4mjl_notebook_cell_df34fa98e69747e1a8f8a730347b8e2f_X66sZmlsZQ==.jl:4\u001b[24m\u001b[39m\n",
      "Discussion questions: \u001b[91m\u001b[1mTest Failed\u001b[22m\u001b[39m at \u001b[39m\u001b[1m/Users/jeffreyvarner/Desktop/julia_work/CHEME-5820-SP25/CHEME-5450-Practicum-S2025/jl_notebook_cell_df34fa98e69747e1a8f8a730347b8e2f_X66sZmlsZQ==.jl:22\u001b[22m\n",
      "  Expression: did_I_answer_DQ2 == true\n",
      "   Evaluated: false == true\n",
      "\n",
      "Stacktrace:\n",
      " [1] \u001b[0m\u001b[1mmacro expansion\u001b[22m\n",
      "\u001b[90m   @\u001b[39m \u001b[90m~/.julia/juliaup/julia-1.11.5+0.aarch64.apple.darwin14/share/julia/stdlib/v1.11/Test/src/\u001b[39m\u001b[90m\u001b[4mTest.jl:679\u001b[24m\u001b[39m\u001b[90m [inlined]\u001b[39m\n",
      " [2] \u001b[0m\u001b[1mmacro expansion\u001b[22m\n",
      "\u001b[90m   @\u001b[39m \u001b[90m~/Desktop/julia_work/CHEME-5820-SP25/CHEME-5450-Practicum-S2025/\u001b[39m\u001b[90m\u001b[4mjl_notebook_cell_df34fa98e69747e1a8f8a730347b8e2f_X66sZmlsZQ==.jl:22\u001b[24m\u001b[39m\u001b[90m [inlined]\u001b[39m\n",
      " [3] \u001b[0m\u001b[1mmacro expansion\u001b[22m\n",
      "\u001b[90m   @\u001b[39m \u001b[90m~/.julia/juliaup/julia-1.11.5+0.aarch64.apple.darwin14/share/julia/stdlib/v1.11/Test/src/\u001b[39m\u001b[90m\u001b[4mTest.jl:1704\u001b[24m\u001b[39m\u001b[90m [inlined]\u001b[39m\n",
      " [4] \u001b[0m\u001b[1mmacro expansion\u001b[22m\n",
      "\u001b[90m   @\u001b[39m \u001b[90m~/Desktop/julia_work/CHEME-5820-SP25/CHEME-5450-Practicum-S2025/\u001b[39m\u001b[90m\u001b[4mjl_notebook_cell_df34fa98e69747e1a8f8a730347b8e2f_X66sZmlsZQ==.jl:21\u001b[24m\u001b[39m\u001b[90m [inlined]\u001b[39m\n",
      " [5] \u001b[0m\u001b[1mmacro expansion\u001b[22m\n",
      "\u001b[90m   @\u001b[39m \u001b[90m~/.julia/juliaup/julia-1.11.5+0.aarch64.apple.darwin14/share/julia/stdlib/v1.11/Test/src/\u001b[39m\u001b[90m\u001b[4mTest.jl:1704\u001b[24m\u001b[39m\u001b[90m [inlined]\u001b[39m\n",
      " [6] top-level scope\n",
      "\u001b[90m   @\u001b[39m \u001b[90m~/Desktop/julia_work/CHEME-5820-SP25/CHEME-5450-Practicum-S2025/\u001b[39m\u001b[90m\u001b[4mjl_notebook_cell_df34fa98e69747e1a8f8a730347b8e2f_X66sZmlsZQ==.jl:4\u001b[24m\u001b[39m\n",
      "Discussion questions: \u001b[91m\u001b[1mTest Failed\u001b[22m\u001b[39m at \u001b[39m\u001b[1m/Users/jeffreyvarner/Desktop/julia_work/CHEME-5820-SP25/CHEME-5450-Practicum-S2025/jl_notebook_cell_df34fa98e69747e1a8f8a730347b8e2f_X66sZmlsZQ==.jl:23\u001b[22m\n",
      "  Expression: did_I_answer_DQ3 == true\n",
      "   Evaluated: false == true\n",
      "\n",
      "Stacktrace:\n",
      " [1] \u001b[0m\u001b[1mmacro expansion\u001b[22m\n",
      "\u001b[90m   @\u001b[39m \u001b[90m~/.julia/juliaup/julia-1.11.5+0.aarch64.apple.darwin14/share/julia/stdlib/v1.11/Test/src/\u001b[39m\u001b[90m\u001b[4mTest.jl:679\u001b[24m\u001b[39m\u001b[90m [inlined]\u001b[39m\n",
      " [2] \u001b[0m\u001b[1mmacro expansion\u001b[22m\n",
      "\u001b[90m   @\u001b[39m \u001b[90m~/Desktop/julia_work/CHEME-5820-SP25/CHEME-5450-Practicum-S2025/\u001b[39m\u001b[90m\u001b[4mjl_notebook_cell_df34fa98e69747e1a8f8a730347b8e2f_X66sZmlsZQ==.jl:23\u001b[24m\u001b[39m\u001b[90m [inlined]\u001b[39m\n",
      " [3] \u001b[0m\u001b[1mmacro expansion\u001b[22m\n",
      "\u001b[90m   @\u001b[39m \u001b[90m~/.julia/juliaup/julia-1.11.5+0.aarch64.apple.darwin14/share/julia/stdlib/v1.11/Test/src/\u001b[39m\u001b[90m\u001b[4mTest.jl:1704\u001b[24m\u001b[39m\u001b[90m [inlined]\u001b[39m\n",
      " [4] \u001b[0m\u001b[1mmacro expansion\u001b[22m\n",
      "\u001b[90m   @\u001b[39m \u001b[90m~/Desktop/julia_work/CHEME-5820-SP25/CHEME-5450-Practicum-S2025/\u001b[39m\u001b[90m\u001b[4mjl_notebook_cell_df34fa98e69747e1a8f8a730347b8e2f_X66sZmlsZQ==.jl:21\u001b[24m\u001b[39m\u001b[90m [inlined]\u001b[39m\n",
      " [5] \u001b[0m\u001b[1mmacro expansion\u001b[22m\n",
      "\u001b[90m   @\u001b[39m \u001b[90m~/.julia/juliaup/julia-1.11.5+0.aarch64.apple.darwin14/share/julia/stdlib/v1.11/Test/src/\u001b[39m\u001b[90m\u001b[4mTest.jl:1704\u001b[24m\u001b[39m\u001b[90m [inlined]\u001b[39m\n",
      " [6] top-level scope\n",
      "\u001b[90m   @\u001b[39m \u001b[90m~/Desktop/julia_work/CHEME-5820-SP25/CHEME-5450-Practicum-S2025/\u001b[39m\u001b[90m\u001b[4mjl_notebook_cell_df34fa98e69747e1a8f8a730347b8e2f_X66sZmlsZQ==.jl:4\u001b[24m\u001b[39m\n",
      "\u001b[0m\u001b[1mTest Summary:                     | \u001b[22m\u001b[32m\u001b[1mPass  \u001b[22m\u001b[39m\u001b[91m\u001b[1mFail  \u001b[22m\u001b[39m\u001b[36m\u001b[1mTotal  \u001b[22m\u001b[39m\u001b[0m\u001b[1mTime\u001b[22m\n",
      "CHEME 5450 practicum test suite   | \u001b[32m  10  \u001b[39m\u001b[91m   3  \u001b[39m\u001b[36m   13  \u001b[39m\u001b[0m1.4s\n",
      "  Setup                           | \u001b[32m   3  \u001b[39m\u001b[91m      \u001b[39m\u001b[36m    3  \u001b[39m\u001b[0m0.2s\n",
      "  Problem, Bounds and Optmization | \u001b[32m   7  \u001b[39m\u001b[91m      \u001b[39m\u001b[36m    7  \u001b[39m\u001b[0m0.0s\n",
      "  Discussion questions            | \u001b[32m      \u001b[39m\u001b[91m   3  \u001b[39m\u001b[36m    3  \u001b[39m\u001b[0m1.1s\n"
     ]
    },
    {
     "ename": "TestSetException",
     "evalue": "Some tests did not pass: 10 passed, 3 failed, 0 errored, 0 broken.",
     "output_type": "error",
     "traceback": [
      "Some tests did not pass: 10 passed, 3 failed, 0 errored, 0 broken.\n",
      "\n",
      "Stacktrace:\n",
      " [1] finish(ts::Test.DefaultTestSet; print_results::Bool)\n",
      "   @ Test ~/.julia/juliaup/julia-1.11.5+0.aarch64.apple.darwin14/share/julia/stdlib/v1.11/Test/src/Test.jl:1258\n",
      " [2] finish(ts::Test.DefaultTestSet)\n",
      "   @ Test ~/.julia/juliaup/julia-1.11.5+0.aarch64.apple.darwin14/share/julia/stdlib/v1.11/Test/src/Test.jl:1233\n",
      " [3] macro expansion\n",
      "   @ ~/.julia/juliaup/julia-1.11.5+0.aarch64.apple.darwin14/share/julia/stdlib/v1.11/Test/src/Test.jl:1720 [inlined]\n",
      " [4] top-level scope\n",
      "   @ ~/Desktop/julia_work/CHEME-5820-SP25/CHEME-5450-Practicum-S2025/jl_notebook_cell_df34fa98e69747e1a8f8a730347b8e2f_X66sZmlsZQ==.jl:4"
     ]
    }
   ],
   "source": [
    "let\n",
    "    @testset verbose = true \"CHEME 5450 practicum test suite\" begin\n",
    "        \n",
    "        @testset \"Setup\" begin\n",
    "            @test isnothing(model) == false\n",
    "            @test isnothing(rd) == false\n",
    "            @test isnothing(reactionnamesmap) == false\n",
    "        end\n",
    "\n",
    "        @testset \"Problem, Bounds and Optmization\" begin\n",
    "            @test rX != 0.0; # kinetic limit of transcription should be non-zero\n",
    "            @test rL != 0.0; # kinetic limit of translation should be non-zero\n",
    "            @test w == 1.0; # default value \n",
    "            @test u₁ != 0.0; # background state should be non-zero\n",
    "            @test u₂ != 0.0; # induced state should be non-zero            \n",
    "            @test isempty(solution) == false # solution should not be empty\n",
    "            @test do_I_see_the_flux_table_flag == true # do I see the flux table?\n",
    "        end\n",
    "        \n",
    "        @testset \"Discussion questions\" begin\n",
    "             @test did_I_answer_DQ1 == true\n",
    "             @test did_I_answer_DQ2 == true\n",
    "             @test did_I_answer_DQ3 == true\n",
    "        end\n",
    "    end\n",
    "end;"
   ]
  }
 ],
 "metadata": {
  "kernelspec": {
   "display_name": "Julia 1.11.5",
   "language": "julia",
   "name": "julia-1.11"
  },
  "language_info": {
   "file_extension": ".jl",
   "mimetype": "application/julia",
   "name": "julia",
   "version": "1.11.5"
  }
 },
 "nbformat": 4,
 "nbformat_minor": 5
}
