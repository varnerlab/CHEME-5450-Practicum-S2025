{
 "cells": [
  {
   "cell_type": "markdown",
   "id": "6dca204d-08c6-4853-831e-35c30e109acf",
   "metadata": {},
   "source": [
    "# Computational Practicum: Resource Requirements for Gene Expression in Cell-Free Systems\n",
    "Fill me in"
   ]
  },
  {
   "cell_type": "code",
   "execution_count": 1,
   "id": "0d3d5cee-2060-4886-9476-53f1c2d951f0",
   "metadata": {},
   "outputs": [
    {
     "data": {
      "text/plain": [
       "translation (generic function with 1 method)"
      ]
     },
     "metadata": {},
     "output_type": "display_data"
    }
   ],
   "source": [
    "include(\"Include.jl\")"
   ]
  },
  {
   "cell_type": "markdown",
   "id": "83ba7f12",
   "metadata": {},
   "source": [
    "Fill me in"
   ]
  },
  {
   "cell_type": "code",
   "execution_count": 2,
   "id": "c862163a-eb92-46d0-a472-1a7712b743ae",
   "metadata": {},
   "outputs": [],
   "source": [
    "genesequence, proteinsequence = let\n",
    "\n",
    "    # setup the paths to the gene and protein sequence files\n",
    "    path_to_gene_file = joinpath(_PATH_TO_DATA, \"deGFP.gene\")\n",
    "    path_to_protein_file = joinpath(_PATH_TO_DATA, \"deGFP.prot\")\n",
    "\n",
    "    # load the sequences from the files - \n",
    "    gene_sequence = load_gene_sequence_from_file(path_to_gene_file); # load the gene sequence\n",
    "    protein_sequence = load_protein_sequence_from_file(path_to_protein_file); # load the protein sequence\n",
    "\n",
    "    # return -\n",
    "    gene_sequence, protein_sequence\n",
    "end;"
   ]
  },
  {
   "cell_type": "markdown",
   "id": "81e96b4a",
   "metadata": {},
   "source": [
    "Fill me in\n"
   ]
  },
  {
   "cell_type": "code",
   "execution_count": null,
   "id": "ecba48cc",
   "metadata": {},
   "outputs": [
    {
     "data": {
      "text/plain": [
       "22-element Vector{String}:\n",
       " \"translation_initiation_test,mRNA_test+RIBOSOME,RIBOSOME_START_test,false\"\n",
       " \"translation_test,RIBOSOME_START\"\u001b[93m\u001b[1m ⋯ 458 bytes ⋯ \u001b[22m\u001b[39m\"dp_c+450*M_pi_c+225*tRNA,false\"\n",
       " \"tRNA_charging_M_ala_L_c_test,8.\"\u001b[93m\u001b[1m ⋯ 62 bytes ⋯ \u001b[22m\u001b[39m\"A+8.0*M_amp_c+8.0*M_ppi_c,false\"\n",
       " \"tRNA_charging_M_arg_L_c_test,6.\"\u001b[93m\u001b[1m ⋯ 62 bytes ⋯ \u001b[22m\u001b[39m\"A+6.0*M_amp_c+6.0*M_ppi_c,false\"\n",
       " \"tRNA_charging_M_asn_L_c_test,13\"\u001b[93m\u001b[1m ⋯ 69 bytes ⋯ \u001b[22m\u001b[39m\"13.0*M_amp_c+13.0*M_ppi_c,false\"\n",
       " \"tRNA_charging_M_asp_L_c_test,17\"\u001b[93m\u001b[1m ⋯ 69 bytes ⋯ \u001b[22m\u001b[39m\"17.0*M_amp_c+17.0*M_ppi_c,false\"\n",
       " \"tRNA_charging_M_cys_L_c_test,2.\"\u001b[93m\u001b[1m ⋯ 62 bytes ⋯ \u001b[22m\u001b[39m\"A+2.0*M_amp_c+2.0*M_ppi_c,false\"\n",
       " \"tRNA_charging_M_glu_L_c_test,14\"\u001b[93m\u001b[1m ⋯ 69 bytes ⋯ \u001b[22m\u001b[39m\"14.0*M_amp_c+14.0*M_ppi_c,false\"\n",
       " \"tRNA_charging_M_gln_L_c_test,8.\"\u001b[93m\u001b[1m ⋯ 62 bytes ⋯ \u001b[22m\u001b[39m\"A+8.0*M_amp_c+8.0*M_ppi_c,false\"\n",
       " \"tRNA_charging_M_gly_L_c_test,20\"\u001b[93m\u001b[1m ⋯ 69 bytes ⋯ \u001b[22m\u001b[39m\"20.0*M_amp_c+20.0*M_ppi_c,false\"\n",
       " ⋮\n",
       " \"tRNA_charging_M_lys_L_c_test,18\"\u001b[93m\u001b[1m ⋯ 69 bytes ⋯ \u001b[22m\u001b[39m\"18.0*M_amp_c+18.0*M_ppi_c,false\"\n",
       " \"tRNA_charging_M_met_L_c_test,5.\"\u001b[93m\u001b[1m ⋯ 62 bytes ⋯ \u001b[22m\u001b[39m\"A+5.0*M_amp_c+5.0*M_ppi_c,false\"\n",
       " \"tRNA_charging_M_phe_L_c_test,12\"\u001b[93m\u001b[1m ⋯ 69 bytes ⋯ \u001b[22m\u001b[39m\"12.0*M_amp_c+12.0*M_ppi_c,false\"\n",
       " \"tRNA_charging_M_pro_L_c_test,10\"\u001b[93m\u001b[1m ⋯ 69 bytes ⋯ \u001b[22m\u001b[39m\"10.0*M_amp_c+10.0*M_ppi_c,false\"\n",
       " \"tRNA_charging_M_ser_L_c_test,9.\"\u001b[93m\u001b[1m ⋯ 62 bytes ⋯ \u001b[22m\u001b[39m\"A+9.0*M_amp_c+9.0*M_ppi_c,false\"\n",
       " \"tRNA_charging_M_thr_L_c_test,15\"\u001b[93m\u001b[1m ⋯ 69 bytes ⋯ \u001b[22m\u001b[39m\"15.0*M_amp_c+15.0*M_ppi_c,false\"\n",
       " \"tRNA_charging_M_trp_L_c_test,1.\"\u001b[93m\u001b[1m ⋯ 62 bytes ⋯ \u001b[22m\u001b[39m\"A+1.0*M_amp_c+1.0*M_ppi_c,false\"\n",
       " \"tRNA_charging_M_tyr_L_c_test,10\"\u001b[93m\u001b[1m ⋯ 69 bytes ⋯ \u001b[22m\u001b[39m\"10.0*M_amp_c+10.0*M_ppi_c,false\"\n",
       " \"tRNA_charging_M_val_L_c_test,17\"\u001b[93m\u001b[1m ⋯ 69 bytes ⋯ \u001b[22m\u001b[39m\"17.0*M_amp_c+17.0*M_ppi_c,false\""
      ]
     },
     "metadata": {},
     "output_type": "display_data"
    }
   ],
   "source": [
    "reactions = let\n",
    "\n",
    "    # initialize -\n",
    "    reactions = Vector{String}();\n",
    "    \n",
    "    # TXTL and \"hypothetical\" exchange reactions -\n",
    "    transcription_reactions = transcription(genesequence); # transcription reactions\n",
    "    translation_reactions = translation(proteinsequence); # translation reactions\n",
    "\n",
    "    \n",
    "end"
   ]
  },
  {
   "cell_type": "code",
   "execution_count": 4,
   "id": "211d0727",
   "metadata": {},
   "outputs": [
    {
     "data": {
      "text/plain": [
       "\"tRNA_charging_M_ala_L_c_test,8.0*M_ala_L_c+8.0*M_atp_c+8.0*tRNA+8.0*M_h2o_c,8.0*M_ala_L_c_tRNA+8.0*M_amp_c+8.0*M_ppi_c,false\""
      ]
     },
     "metadata": {},
     "output_type": "display_data"
    }
   ],
   "source": [
    "reactions[3]"
   ]
  },
  {
   "cell_type": "code",
   "execution_count": 5,
   "id": "b85716bd",
   "metadata": {},
   "outputs": [],
   "source": []
  }
 ],
 "metadata": {
  "kernelspec": {
   "display_name": "Julia 1.11.5",
   "language": "julia",
   "name": "julia-1.11"
  },
  "language_info": {
   "file_extension": ".jl",
   "mimetype": "application/julia",
   "name": "julia",
   "version": "1.11.5"
  }
 },
 "nbformat": 4,
 "nbformat_minor": 5
}
