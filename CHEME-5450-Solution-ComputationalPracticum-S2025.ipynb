{
 "cells": [
  {
   "cell_type": "markdown",
   "id": "6dca204d-08c6-4853-831e-35c30e109acf",
   "metadata": {},
   "source": [
    "# Computational Practicum: Resource Requirements for Gene Expression in Cell-Free Systems\n",
    "Fill me in"
   ]
  },
  {
   "cell_type": "code",
   "execution_count": 1,
   "id": "0d3d5cee-2060-4886-9476-53f1c2d951f0",
   "metadata": {},
   "outputs": [
    {
     "data": {
      "text/plain": [
       "generate_parameter_dictionary (generic function with 1 method)"
      ]
     },
     "metadata": {},
     "output_type": "display_data"
    }
   ],
   "source": [
    "include(\"Include.jl\")"
   ]
  },
  {
   "cell_type": "markdown",
   "id": "83ba7f12",
   "metadata": {},
   "source": [
    "## Task 1: Build the System Matricies\n",
    "In this task, we will build the system matrices for the cell-free system. The system matrices are used to describe the interactions between the different components of the system. "
   ]
  },
  {
   "cell_type": "code",
   "execution_count": 2,
   "id": "c862163a-eb92-46d0-a472-1a7712b743ae",
   "metadata": {},
   "outputs": [],
   "source": [
    "genesequence, proteinsequence = let\n",
    "\n",
    "    # setup the paths to the gene and protein sequence files\n",
    "    path_to_gene_file = joinpath(_PATH_TO_DATA, \"deGFP.gene\")\n",
    "    path_to_protein_file = joinpath(_PATH_TO_DATA, \"deGFP.prot\")\n",
    "\n",
    "    # load the sequences from the files - \n",
    "    gene_sequence = load_gene_sequence_from_file(path_to_gene_file); # load the gene sequence\n",
    "    protein_sequence = load_protein_sequence_from_file(path_to_protein_file); # load the protein sequence\n",
    "\n",
    "    # return -\n",
    "    gene_sequence, protein_sequence\n",
    "end;"
   ]
  },
  {
   "cell_type": "markdown",
   "id": "81e96b4a",
   "metadata": {},
   "source": [
    "Fill me in\n"
   ]
  },
  {
   "cell_type": "code",
   "execution_count": 3,
   "id": "ecba48cc",
   "metadata": {},
   "outputs": [],
   "source": [
    "reactions = let\n",
    "\n",
    "    # initialize -\n",
    "    reactions = Vector{String}();\n",
    "    \n",
    "    # TXTL and \"hypothetical\" exchange reactions -\n",
    "    transcription_reactions = transcription(genesequence); # transcription reactions\n",
    "    translation_reactions = translation(proteinsequence); # translation reactions\n",
    "    txtl_reactions = [transcription_reactions; translation_reactions]; # combine transcription and translation reactions\n",
    "    \n",
    "    # build the exchange reactions -\n",
    "    exchange_reactions = exchangereactions(txtl_reactions); # exchange reactions\n",
    "    \n",
    "    # build the list of reactions -\n",
    "    reactions = [txtl_reactions; exchange_reactions]; # combine all reactions\n",
    "end;"
   ]
  },
  {
   "cell_type": "markdown",
   "id": "211d0727",
   "metadata": {},
   "source": [
    "Fill me in"
   ]
  },
  {
   "cell_type": "code",
   "execution_count": 4,
   "id": "b85716bd",
   "metadata": {},
   "outputs": [],
   "source": [
    "let\n",
    "\n",
    "    # initialize -\n",
    "    path_to_reaction_file = joinpath(_PATH_TO_DATA, \"deGFP.reactions\"); # path to the reaction file\n",
    "\n",
    "    # write the reactions to the file -\n",
    "    open(path_to_reaction_file, \"w\") do io\n",
    "        for reaction in reactions\n",
    "            println(io, reaction); # write the reaction to the file\n",
    "        end\n",
    "    end\n",
    "\n",
    "end"
   ]
  },
  {
   "cell_type": "markdown",
   "id": "cb4a3940",
   "metadata": {},
   "source": [
    "Fill me in."
   ]
  },
  {
   "cell_type": "code",
   "execution_count": 5,
   "id": "4cb56766",
   "metadata": {},
   "outputs": [],
   "source": [
    "S, species, reactions, reaction_dictionary, bounds = let\n",
    "\n",
    "    # initialize -\n",
    "    path_to_reaction_file = joinpath(_PATH_TO_DATA, \"deGFP.reactions\"); # path to the reaction file\n",
    "    reactions = read_reaction_file(path_to_reaction_file); # read the reactions from the file\n",
    "    \n",
    "    # Compute the stoichiometric matrix -\n",
    "    (S, species_array, reaction_array, reaction_dictionary) = build_stoichiometric_matrix(reactions); # compute the stoichiometric matrix\n",
    "   \n",
    "    # compute the bounds -\n",
    "    bounds = build_default_bounds_array(reactions); # this is the default bounds array\n",
    "\n",
    "    # return -\n",
    "    S, species_array, reactions, reaction_dictionary, bounds\n",
    "end;"
   ]
  },
  {
   "cell_type": "markdown",
   "id": "a6896584",
   "metadata": {},
   "source": [
    "Constants"
   ]
  },
  {
   "cell_type": "code",
   "execution_count": 6,
   "id": "8ffeaabd",
   "metadata": {},
   "outputs": [],
   "source": [
    "R = 8.314; # universal gas constant (units: J/(mol*K))\n",
    "T = 37 + 273.15; # temperature (units: K);\n",
    "β = 1/(R*T); # inverse temperature (units: 1/(J*mol)) - thermodynamic beta in units of 1/(J*mol)\n",
    "kcat_default = 10.0*(3600); # turnover number (units: 1/hr)\n",
    "default_enzyme_concentration = 0.01; # enzyme concentration (units: mmol/gDW\n",
    "parameters = generate_parameter_dictionary(joinpath(_PATH_TO_CONFIGURATION, \"Parameters.json\")); # load the biophysical parameters (approximately true)"
   ]
  },
  {
   "cell_type": "markdown",
   "id": "2e6a53bb",
   "metadata": {},
   "source": [
    "## Task 2: Update the Bounds Array\n",
    "Fill me in"
   ]
  },
  {
   "cell_type": "markdown",
   "id": "b0a784e6",
   "metadata": {},
   "source": [
    "There are pathologies when using flux balance analysis to model gene expression and signal transduction can cause pathologies. For example, translation occurs without transcription, and transcription occurs without PhoB activation. How can we fix this? \n",
    "\n",
    "__Answer__: there is a trick with the bounds (that incorporates many things we have been exploring) that we can use to fix the gene expression problem:\n",
    "* [Vilkhovoy M, Horvath N, Shih CH, Wayman JA, Calhoun K, Swartz J, Varner JD. Sequence-Specific Modeling of E. coli Cell-Free Protein Synthesis. ACS Synth Biol. 2018 Aug 17;7(8):1844-1857. doi: 10.1021/acssynbio.7b00465. Epub 2018 Jul 16. PMID: 29944340.](https://www.biorxiv.org/content/10.1101/139774v2)\n",
    "\n",
    "__Fix__: We (equality) bound a transcription rate $\\hat{v}_{i}$ as $\\hat{r}_{X, i}u_{i} = \\hat{v}_{i} = \\hat{r}_{X, i}u_{i}$, while a translation rate is bounded from above by the modified kinetic limit: $0\\leq\\hat{v}_{j}\\leq\\hat{r}_{L,j}w_{j}$. This is interesting because the kinetic limits are (semi)mechanistic descriptions of the transcription and translation rate. At the same time, the control variables contain continuous Boltzmann-type descriptions of the logical controlling of these processes.\n",
    "\n",
    "Let's implement this for our PhoR/PhoB model. First, let's compute the kinetic limit of transcription for PhoA:"
   ]
  },
  {
   "cell_type": "code",
   "execution_count": 7,
   "id": "7969f081",
   "metadata": {},
   "outputs": [],
   "source": []
  },
  {
   "cell_type": "markdown",
   "id": "ca645c55",
   "metadata": {},
   "source": [
    "## Task 3: Estimate the Protein Production Rate\n",
    "In this task, we will estimate the protein production rate of the cell-free system and the protein concentration as a function of time and inducer concentration. "
   ]
  },
  {
   "cell_type": "markdown",
   "id": "bd609365",
   "metadata": {},
   "source": []
  }
 ],
 "metadata": {
  "kernelspec": {
   "display_name": "Julia 1.11.5",
   "language": "julia",
   "name": "julia-1.11"
  },
  "language_info": {
   "file_extension": ".jl",
   "mimetype": "application/julia",
   "name": "julia",
   "version": "1.11.5"
  }
 },
 "nbformat": 4,
 "nbformat_minor": 5
}
