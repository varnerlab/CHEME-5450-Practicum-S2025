{
 "cells": [
  {
   "cell_type": "markdown",
   "id": "6dca204d-08c6-4853-831e-35c30e109acf",
   "metadata": {},
   "source": [
    "# Computational Practicum: Resource Requirements for Gene Expression in Cell-Free Systems\n",
    "Fill me in"
   ]
  },
  {
   "cell_type": "code",
   "execution_count": 3,
   "id": "0d3d5cee-2060-4886-9476-53f1c2d951f0",
   "metadata": {},
   "outputs": [
    {
     "ename": "LoadError",
     "evalue": "LoadError: ArgumentError: Package HTTP not found in current path.\n- Run `import Pkg; Pkg.add(\"HTTP\")` to install the HTTP package.\nin expression starting at /Users/jeffreyvarner/Desktop/julia_work/CHEME-5820-SP25/CHEME-5450-Practicum-S2025/Include.jl:17",
     "output_type": "error",
     "traceback": [
      "LoadError: ArgumentError: Package HTTP not found in current path.\n- Run `import Pkg; Pkg.add(\"HTTP\")` to install the HTTP package.\nin expression starting at /Users/jeffreyvarner/Desktop/julia_work/CHEME-5820-SP25/CHEME-5450-Practicum-S2025/Include.jl:17",
      "",
      "Stacktrace:",
      " [1] macro expansion",
      "   @ ./loading.jl:2296 [inlined]",
      " [2] macro expansion",
      "   @ ./lock.jl:273 [inlined]",
      " [3] __require(into::Module, mod::Symbol)",
      "   @ Base ./loading.jl:2271",
      " [4] #invoke_in_world#3",
      "   @ ./essentials.jl:1089 [inlined]",
      " [5] invoke_in_world",
      "   @ ./essentials.jl:1086 [inlined]",
      " [6] require(into::Module, mod::Symbol)",
      "   @ Base ./loading.jl:2260",
      " [7] include(fname::String)",
      "   @ Main ./sysimg.jl:38",
      " [8] top-level scope",
      "   @ In[3]:1"
     ]
    }
   ],
   "source": [
    "include(\"Include.jl\")"
   ]
  },
  {
   "cell_type": "code",
   "execution_count": null,
   "id": "c862163a-eb92-46d0-a472-1a7712b743ae",
   "metadata": {},
   "outputs": [],
   "source": []
  }
 ],
 "metadata": {
  "kernelspec": {
   "display_name": "Julia 1.11.5",
   "language": "julia",
   "name": "julia-1.11"
  },
  "language_info": {
   "file_extension": ".jl",
   "mimetype": "application/julia",
   "name": "julia",
   "version": "1.11.5"
  }
 },
 "nbformat": 4,
 "nbformat_minor": 5
}
